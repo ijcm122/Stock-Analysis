{
 "cells": [
  {
   "cell_type": "code",
   "execution_count": 7,
   "metadata": {},
   "outputs": [
    {
     "name": "stdout",
     "output_type": "stream",
     "text": [
      "The nb_black extension is already loaded. To reload it, use:\n",
      "  %reload_ext nb_black\n"
     ]
    },
    {
     "data": {
      "application/javascript": [
       "\n",
       "            setTimeout(function() {\n",
       "                var nbb_cell_id = 7;\n",
       "                var nbb_unformatted_code = \"%load_ext nb_black\\n\\nimport time\\nimport os\\nimport pandas as pd\\nimport numpy as np\\nimport matplotlib.pyplot as plt\\n\\nfrom pmdarima import auto_arima\\nimport warnings\\n\\nplt.style.use(style=\\\"seaborn\\\")\\n\\n%matplotlib inline\";\n",
       "                var nbb_formatted_code = \"%load_ext nb_black\\n\\nimport time\\nimport os\\nimport pandas as pd\\nimport numpy as np\\nimport matplotlib.pyplot as plt\\n\\nfrom pmdarima import auto_arima\\nimport warnings\\n\\nplt.style.use(style=\\\"seaborn\\\")\\n\\n%matplotlib inline\";\n",
       "                var nbb_cells = Jupyter.notebook.get_cells();\n",
       "                for (var i = 0; i < nbb_cells.length; ++i) {\n",
       "                    if (nbb_cells[i].input_prompt_number == nbb_cell_id) {\n",
       "                        if (nbb_cells[i].get_text() == nbb_unformatted_code) {\n",
       "                             nbb_cells[i].set_text(nbb_formatted_code);\n",
       "                        }\n",
       "                        break;\n",
       "                    }\n",
       "                }\n",
       "            }, 500);\n",
       "            "
      ],
      "text/plain": [
       "<IPython.core.display.Javascript object>"
      ]
     },
     "metadata": {},
     "output_type": "display_data"
    }
   ],
   "source": [
    "%load_ext nb_black\n",
    "\n",
    "import time\n",
    "import os\n",
    "import pandas as pd\n",
    "import numpy as np\n",
    "import matplotlib.pyplot as plt\n",
    "\n",
    "from pmdarima import auto_arima\n",
    "import warnings\n",
    "\n",
    "plt.style.use(style=\"seaborn\")\n",
    "\n",
    "%matplotlib inline"
   ]
  },
  {
   "cell_type": "markdown",
   "metadata": {},
   "source": [
    "### Load Data"
   ]
  },
  {
   "cell_type": "code",
   "execution_count": 8,
   "metadata": {},
   "outputs": [
    {
     "data": {
      "text/html": [
       "<div>\n",
       "<style scoped>\n",
       "    .dataframe tbody tr th:only-of-type {\n",
       "        vertical-align: middle;\n",
       "    }\n",
       "\n",
       "    .dataframe tbody tr th {\n",
       "        vertical-align: top;\n",
       "    }\n",
       "\n",
       "    .dataframe thead th {\n",
       "        text-align: right;\n",
       "    }\n",
       "</style>\n",
       "<table border=\"1\" class=\"dataframe\">\n",
       "  <thead>\n",
       "    <tr style=\"text-align: right;\">\n",
       "      <th></th>\n",
       "      <th>Close/Last</th>\n",
       "      <th>Volume</th>\n",
       "      <th>Open</th>\n",
       "      <th>High</th>\n",
       "      <th>Low</th>\n",
       "    </tr>\n",
       "    <tr>\n",
       "      <th>Date</th>\n",
       "      <th></th>\n",
       "      <th></th>\n",
       "      <th></th>\n",
       "      <th></th>\n",
       "      <th></th>\n",
       "    </tr>\n",
       "  </thead>\n",
       "  <tbody>\n",
       "    <tr>\n",
       "      <th>2021-07-30</th>\n",
       "      <td>$104.5</td>\n",
       "      <td>75136</td>\n",
       "      <td>$103.24</td>\n",
       "      <td>$104.69</td>\n",
       "      <td>$102.41</td>\n",
       "    </tr>\n",
       "    <tr>\n",
       "      <th>2021-07-29</th>\n",
       "      <td>$103.68</td>\n",
       "      <td>92759</td>\n",
       "      <td>$102.01</td>\n",
       "      <td>$104.2399</td>\n",
       "      <td>$100.655</td>\n",
       "    </tr>\n",
       "    <tr>\n",
       "      <th>2021-07-28</th>\n",
       "      <td>$101.56</td>\n",
       "      <td>43367</td>\n",
       "      <td>$101.21</td>\n",
       "      <td>$102.43</td>\n",
       "      <td>$99.85</td>\n",
       "    </tr>\n",
       "    <tr>\n",
       "      <th>2021-07-27</th>\n",
       "      <td>$100.55</td>\n",
       "      <td>59346</td>\n",
       "      <td>$102.23</td>\n",
       "      <td>$102.25</td>\n",
       "      <td>$99.39</td>\n",
       "    </tr>\n",
       "    <tr>\n",
       "      <th>2021-07-26</th>\n",
       "      <td>$102.7</td>\n",
       "      <td>47389</td>\n",
       "      <td>$102.1</td>\n",
       "      <td>$103.17</td>\n",
       "      <td>$102.1</td>\n",
       "    </tr>\n",
       "    <tr>\n",
       "      <th>...</th>\n",
       "      <td>...</td>\n",
       "      <td>...</td>\n",
       "      <td>...</td>\n",
       "      <td>...</td>\n",
       "      <td>...</td>\n",
       "    </tr>\n",
       "    <tr>\n",
       "      <th>2021-03-16</th>\n",
       "      <td>$92.62</td>\n",
       "      <td>81241</td>\n",
       "      <td>$93.94</td>\n",
       "      <td>$94.1774</td>\n",
       "      <td>$92.215</td>\n",
       "    </tr>\n",
       "    <tr>\n",
       "      <th>2021-03-15</th>\n",
       "      <td>$93.62</td>\n",
       "      <td>180730</td>\n",
       "      <td>$92.8</td>\n",
       "      <td>$93.71</td>\n",
       "      <td>$91.11</td>\n",
       "    </tr>\n",
       "    <tr>\n",
       "      <th>2021-03-12</th>\n",
       "      <td>$93.32</td>\n",
       "      <td>87675</td>\n",
       "      <td>$92.6</td>\n",
       "      <td>$94.56</td>\n",
       "      <td>$91.925</td>\n",
       "    </tr>\n",
       "    <tr>\n",
       "      <th>2021-03-11</th>\n",
       "      <td>$93.22</td>\n",
       "      <td>120942</td>\n",
       "      <td>$91.71</td>\n",
       "      <td>$93.51</td>\n",
       "      <td>$90.56</td>\n",
       "    </tr>\n",
       "    <tr>\n",
       "      <th>2021-03-10</th>\n",
       "      <td>$90.33</td>\n",
       "      <td>108658</td>\n",
       "      <td>$88.91</td>\n",
       "      <td>$90.75</td>\n",
       "      <td>$88.29</td>\n",
       "    </tr>\n",
       "  </tbody>\n",
       "</table>\n",
       "<p>100 rows × 5 columns</p>\n",
       "</div>"
      ],
      "text/plain": [
       "           Close/Last  Volume     Open       High       Low\n",
       "Date                                                       \n",
       "2021-07-30     $104.5   75136  $103.24    $104.69   $102.41\n",
       "2021-07-29    $103.68   92759  $102.01  $104.2399  $100.655\n",
       "2021-07-28    $101.56   43367  $101.21    $102.43    $99.85\n",
       "2021-07-27    $100.55   59346  $102.23    $102.25    $99.39\n",
       "2021-07-26     $102.7   47389   $102.1    $103.17    $102.1\n",
       "...               ...     ...      ...        ...       ...\n",
       "2021-03-16     $92.62   81241   $93.94   $94.1774   $92.215\n",
       "2021-03-15     $93.62  180730    $92.8     $93.71    $91.11\n",
       "2021-03-12     $93.32   87675    $92.6     $94.56   $91.925\n",
       "2021-03-11     $93.22  120942   $91.71     $93.51    $90.56\n",
       "2021-03-10     $90.33  108658   $88.91     $90.75    $88.29\n",
       "\n",
       "[100 rows x 5 columns]"
      ]
     },
     "execution_count": 8,
     "metadata": {},
     "output_type": "execute_result"
    },
    {
     "data": {
      "application/javascript": [
       "\n",
       "            setTimeout(function() {\n",
       "                var nbb_cell_id = 8;\n",
       "                var nbb_unformatted_code = \"TTEC_df = pd.read_csv(\\n    \\\"Resources/HistoricalData_TTEC.csv\\\", index_col=\\\"Date\\\", parse_dates=True\\n)\\nTTEC_df.dropna()\\nTTEC_df.head(100)\";\n",
       "                var nbb_formatted_code = \"TTEC_df = pd.read_csv(\\n    \\\"Resources/HistoricalData_TTEC.csv\\\", index_col=\\\"Date\\\", parse_dates=True\\n)\\nTTEC_df.dropna()\\nTTEC_df.head(100)\";\n",
       "                var nbb_cells = Jupyter.notebook.get_cells();\n",
       "                for (var i = 0; i < nbb_cells.length; ++i) {\n",
       "                    if (nbb_cells[i].input_prompt_number == nbb_cell_id) {\n",
       "                        if (nbb_cells[i].get_text() == nbb_unformatted_code) {\n",
       "                             nbb_cells[i].set_text(nbb_formatted_code);\n",
       "                        }\n",
       "                        break;\n",
       "                    }\n",
       "                }\n",
       "            }, 500);\n",
       "            "
      ],
      "text/plain": [
       "<IPython.core.display.Javascript object>"
      ]
     },
     "metadata": {},
     "output_type": "display_data"
    }
   ],
   "source": [
    "TTEC_df = pd.read_csv(\n",
    "    \"Resources/HistoricalData_TTEC.csv\", index_col=\"Date\", parse_dates=True\n",
    ")\n",
    "TTEC_df.dropna()\n",
    "TTEC_df.head(100)"
   ]
  },
  {
   "cell_type": "markdown",
   "metadata": {},
   "source": [
    "### Data cleaning and slicing, sorting by ascending date."
   ]
  },
  {
   "cell_type": "code",
   "execution_count": 9,
   "metadata": {},
   "outputs": [
    {
     "name": "stderr",
     "output_type": "stream",
     "text": [
      "<ipython-input-9-5399fe82f941>:2: FutureWarning: The default value of regex will change from True to False in a future version. In addition, single character regular expressions will*not* be treated as literal strings when regex=True.\n",
      "  df[\"Close/Last\"] = df[\"Close/Last\"].str.replace(\"$\", \"\")\n"
     ]
    },
    {
     "data": {
      "text/html": [
       "<div>\n",
       "<style scoped>\n",
       "    .dataframe tbody tr th:only-of-type {\n",
       "        vertical-align: middle;\n",
       "    }\n",
       "\n",
       "    .dataframe tbody tr th {\n",
       "        vertical-align: top;\n",
       "    }\n",
       "\n",
       "    .dataframe thead th {\n",
       "        text-align: right;\n",
       "    }\n",
       "</style>\n",
       "<table border=\"1\" class=\"dataframe\">\n",
       "  <thead>\n",
       "    <tr style=\"text-align: right;\">\n",
       "      <th></th>\n",
       "      <th>Close/Last</th>\n",
       "    </tr>\n",
       "    <tr>\n",
       "      <th>Date</th>\n",
       "      <th></th>\n",
       "    </tr>\n",
       "  </thead>\n",
       "  <tbody>\n",
       "    <tr>\n",
       "      <th>2016-08-01</th>\n",
       "      <td>28.86</td>\n",
       "    </tr>\n",
       "    <tr>\n",
       "      <th>2016-08-02</th>\n",
       "      <td>28.57</td>\n",
       "    </tr>\n",
       "    <tr>\n",
       "      <th>2016-08-03</th>\n",
       "      <td>28.56</td>\n",
       "    </tr>\n",
       "    <tr>\n",
       "      <th>2016-08-04</th>\n",
       "      <td>28.90</td>\n",
       "    </tr>\n",
       "    <tr>\n",
       "      <th>2016-08-05</th>\n",
       "      <td>30.24</td>\n",
       "    </tr>\n",
       "    <tr>\n",
       "      <th>...</th>\n",
       "      <td>...</td>\n",
       "    </tr>\n",
       "    <tr>\n",
       "      <th>2021-07-26</th>\n",
       "      <td>102.70</td>\n",
       "    </tr>\n",
       "    <tr>\n",
       "      <th>2021-07-27</th>\n",
       "      <td>100.55</td>\n",
       "    </tr>\n",
       "    <tr>\n",
       "      <th>2021-07-28</th>\n",
       "      <td>101.56</td>\n",
       "    </tr>\n",
       "    <tr>\n",
       "      <th>2021-07-29</th>\n",
       "      <td>103.68</td>\n",
       "    </tr>\n",
       "    <tr>\n",
       "      <th>2021-07-30</th>\n",
       "      <td>104.50</td>\n",
       "    </tr>\n",
       "  </tbody>\n",
       "</table>\n",
       "<p>1259 rows × 1 columns</p>\n",
       "</div>"
      ],
      "text/plain": [
       "            Close/Last\n",
       "Date                  \n",
       "2016-08-01       28.86\n",
       "2016-08-02       28.57\n",
       "2016-08-03       28.56\n",
       "2016-08-04       28.90\n",
       "2016-08-05       30.24\n",
       "...                ...\n",
       "2021-07-26      102.70\n",
       "2021-07-27      100.55\n",
       "2021-07-28      101.56\n",
       "2021-07-29      103.68\n",
       "2021-07-30      104.50\n",
       "\n",
       "[1259 rows x 1 columns]"
      ]
     },
     "execution_count": 9,
     "metadata": {},
     "output_type": "execute_result"
    },
    {
     "data": {
      "application/javascript": [
       "\n",
       "            setTimeout(function() {\n",
       "                var nbb_cell_id = 9;\n",
       "                var nbb_unformatted_code = \"df = TTEC_df[[\\\"Close/Last\\\"]].copy()\\ndf[\\\"Close/Last\\\"] = df[\\\"Close/Last\\\"].str.replace(\\\"$\\\", \\\"\\\")\\ndf[\\\"Close/Last\\\"] = df[\\\"Close/Last\\\"].astype(\\\"float\\\")\\ndf.sort_values(\\\"Date\\\", ascending=True, inplace=True)\\ndf\";\n",
       "                var nbb_formatted_code = \"df = TTEC_df[[\\\"Close/Last\\\"]].copy()\\ndf[\\\"Close/Last\\\"] = df[\\\"Close/Last\\\"].str.replace(\\\"$\\\", \\\"\\\")\\ndf[\\\"Close/Last\\\"] = df[\\\"Close/Last\\\"].astype(\\\"float\\\")\\ndf.sort_values(\\\"Date\\\", ascending=True, inplace=True)\\ndf\";\n",
       "                var nbb_cells = Jupyter.notebook.get_cells();\n",
       "                for (var i = 0; i < nbb_cells.length; ++i) {\n",
       "                    if (nbb_cells[i].input_prompt_number == nbb_cell_id) {\n",
       "                        if (nbb_cells[i].get_text() == nbb_unformatted_code) {\n",
       "                             nbb_cells[i].set_text(nbb_formatted_code);\n",
       "                        }\n",
       "                        break;\n",
       "                    }\n",
       "                }\n",
       "            }, 500);\n",
       "            "
      ],
      "text/plain": [
       "<IPython.core.display.Javascript object>"
      ]
     },
     "metadata": {},
     "output_type": "display_data"
    }
   ],
   "source": [
    "df = TTEC_df[[\"Close/Last\"]].copy()\n",
    "df[\"Close/Last\"] = df[\"Close/Last\"].str.replace(\"$\", \"\")\n",
    "df[\"Close/Last\"] = df[\"Close/Last\"].astype(\"float\")\n",
    "df.sort_values(\"Date\", ascending=True, inplace=True)\n",
    "df"
   ]
  },
  {
   "cell_type": "code",
   "execution_count": 10,
   "metadata": {},
   "outputs": [
    {
     "data": {
      "text/html": [
       "<div>\n",
       "<style scoped>\n",
       "    .dataframe tbody tr th:only-of-type {\n",
       "        vertical-align: middle;\n",
       "    }\n",
       "\n",
       "    .dataframe tbody tr th {\n",
       "        vertical-align: top;\n",
       "    }\n",
       "\n",
       "    .dataframe thead th {\n",
       "        text-align: right;\n",
       "    }\n",
       "</style>\n",
       "<table border=\"1\" class=\"dataframe\">\n",
       "  <thead>\n",
       "    <tr style=\"text-align: right;\">\n",
       "      <th></th>\n",
       "      <th>Close/Last</th>\n",
       "    </tr>\n",
       "  </thead>\n",
       "  <tbody>\n",
       "    <tr>\n",
       "      <th>count</th>\n",
       "      <td>1259.000000</td>\n",
       "    </tr>\n",
       "    <tr>\n",
       "      <th>mean</th>\n",
       "      <td>45.211906</td>\n",
       "    </tr>\n",
       "    <tr>\n",
       "      <th>std</th>\n",
       "      <td>20.769137</td>\n",
       "    </tr>\n",
       "    <tr>\n",
       "      <th>min</th>\n",
       "      <td>23.790000</td>\n",
       "    </tr>\n",
       "    <tr>\n",
       "      <th>25%</th>\n",
       "      <td>31.650000</td>\n",
       "    </tr>\n",
       "    <tr>\n",
       "      <th>50%</th>\n",
       "      <td>39.370000</td>\n",
       "    </tr>\n",
       "    <tr>\n",
       "      <th>75%</th>\n",
       "      <td>46.680000</td>\n",
       "    </tr>\n",
       "    <tr>\n",
       "      <th>max</th>\n",
       "      <td>111.040000</td>\n",
       "    </tr>\n",
       "  </tbody>\n",
       "</table>\n",
       "</div>"
      ],
      "text/plain": [
       "        Close/Last\n",
       "count  1259.000000\n",
       "mean     45.211906\n",
       "std      20.769137\n",
       "min      23.790000\n",
       "25%      31.650000\n",
       "50%      39.370000\n",
       "75%      46.680000\n",
       "max     111.040000"
      ]
     },
     "execution_count": 10,
     "metadata": {},
     "output_type": "execute_result"
    },
    {
     "data": {
      "application/javascript": [
       "\n",
       "            setTimeout(function() {\n",
       "                var nbb_cell_id = 10;\n",
       "                var nbb_unformatted_code = \"df.describe(include=\\\"all\\\")\";\n",
       "                var nbb_formatted_code = \"df.describe(include=\\\"all\\\")\";\n",
       "                var nbb_cells = Jupyter.notebook.get_cells();\n",
       "                for (var i = 0; i < nbb_cells.length; ++i) {\n",
       "                    if (nbb_cells[i].input_prompt_number == nbb_cell_id) {\n",
       "                        if (nbb_cells[i].get_text() == nbb_unformatted_code) {\n",
       "                             nbb_cells[i].set_text(nbb_formatted_code);\n",
       "                        }\n",
       "                        break;\n",
       "                    }\n",
       "                }\n",
       "            }, 500);\n",
       "            "
      ],
      "text/plain": [
       "<IPython.core.display.Javascript object>"
      ]
     },
     "metadata": {},
     "output_type": "display_data"
    }
   ],
   "source": [
    "df.describe(include=\"all\")"
   ]
  },
  {
   "cell_type": "markdown",
   "metadata": {},
   "source": [
    "### Stationarity\n",
    "A stationary time series is one where the properties of the series do not depend on the time of the observation.  In other words, the summary statistics of the series do not depend on the time the series is observed, as is the case with series that show a trend or their mean varies over time or show seasonal effects.  Here we use the adfuller() functin to determine if our series is stationary.\n",
    "\n",
    "The Augmented Dickey-Fuller test is a type of statistical test called a unit root test.\n",
    "The intuition behind a unit root test is that it determines how strongly a time series is defined by a trend.\n",
    "\n",
    "Null Hypothesis (H0): If failed to be rejected, it suggests the time series has a unit root, meaning it is non-stationary. It has some time dependent structure.\n",
    "\n",
    "Alternate Hypothesis (H1): The null hypothesis is rejected; it suggests the time series does not have a unit root, meaning it is stationary. It does not have time-dependent structure.\n",
    "\n",
    "We interpret this result using the p-value from the test. A p-value below a threshold (such as 5% or 1%) suggests we reject the null hypothesis (stationary), otherwise a p-value above the threshold suggests we fail to reject the null hypothesis (non-stationary).\n",
    "\n",
    "p-value > 0.05: Fail to reject the null hypothesis (H0), the data has a unit root and is non-stationary.\n",
    "\n",
    "p-value <= 0.05: Reject the null hypothesis (H0), the data does not have a unit root and is stationary."
   ]
  },
  {
   "cell_type": "code",
   "execution_count": 11,
   "metadata": {},
   "outputs": [
    {
     "name": "stdout",
     "output_type": "stream",
     "text": [
      "ADF Statistic: 1.4332627147232284\n",
      "p-value: 0.9972601324201877\n"
     ]
    },
    {
     "data": {
      "application/javascript": [
       "\n",
       "            setTimeout(function() {\n",
       "                var nbb_cell_id = 11;\n",
       "                var nbb_unformatted_code = \"# Check if the series of close prices is stationary (Mean Reverting)\\nfrom statsmodels.tsa.stattools import adfuller\\n\\nresult = adfuller(df[\\\"Close/Last\\\"].dropna())\\nprint(f\\\"ADF Statistic: {result[0]}\\\")\\nprint(f\\\"p-value: {result[1]}\\\")\";\n",
       "                var nbb_formatted_code = \"# Check if the series of close prices is stationary (Mean Reverting)\\nfrom statsmodels.tsa.stattools import adfuller\\n\\nresult = adfuller(df[\\\"Close/Last\\\"].dropna())\\nprint(f\\\"ADF Statistic: {result[0]}\\\")\\nprint(f\\\"p-value: {result[1]}\\\")\";\n",
       "                var nbb_cells = Jupyter.notebook.get_cells();\n",
       "                for (var i = 0; i < nbb_cells.length; ++i) {\n",
       "                    if (nbb_cells[i].input_prompt_number == nbb_cell_id) {\n",
       "                        if (nbb_cells[i].get_text() == nbb_unformatted_code) {\n",
       "                             nbb_cells[i].set_text(nbb_formatted_code);\n",
       "                        }\n",
       "                        break;\n",
       "                    }\n",
       "                }\n",
       "            }, 500);\n",
       "            "
      ],
      "text/plain": [
       "<IPython.core.display.Javascript object>"
      ]
     },
     "metadata": {},
     "output_type": "display_data"
    }
   ],
   "source": [
    "# Check if the series of close prices is stationary (Mean Reverting)\n",
    "from statsmodels.tsa.stattools import adfuller\n",
    "\n",
    "result = adfuller(df[\"Close/Last\"].dropna())\n",
    "print(f\"ADF Statistic: {result[0]}\")\n",
    "print(f\"p-value: {result[1]}\")"
   ]
  },
  {
   "cell_type": "markdown",
   "metadata": {},
   "source": [
    "p-value > 0.05: Fail to reject the null hypothesis (H0), the data has a unit root and is non-stationary."
   ]
  },
  {
   "cell_type": "markdown",
   "metadata": {},
   "source": [
    "### Differencing and the \"i\" term."
   ]
  },
  {
   "cell_type": "code",
   "execution_count": 12,
   "metadata": {},
   "outputs": [
    {
     "data": {
      "image/png": "[encoded data removed]",
      "text/plain": [
       "<Figure size 1152x288 with 2 Axes>"
      ]
     },
     "execution_count": 12,
     "metadata": {},
     "output_type": "execute_result"
    },
    {
     "data": {
      "image/png": "[encoded data removed]",
      "text/plain": [
       "<Figure size 1152x288 with 2 Axes>"
      ]
     },
     "metadata": {
      "needs_background": "light"
     },
     "output_type": "display_data"
    },
    {
     "data": {
      "application/javascript": [
       "\n",
       "            setTimeout(function() {\n",
       "                var nbb_cell_id = 12;\n",
       "                var nbb_unformatted_code = \"from statsmodels.graphics.tsaplots import plot_acf\\n\\nfig, (ax1, ax2) = plt.subplots(1, 2, figsize=(16, 4))\\n\\nax1.plot(df[\\\"Close/Last\\\"])\\nax1.set_title(\\\"Original Series\\\")\\n\\nplot_acf(df[\\\"Close/Last\\\"], ax=ax2)\";\n",
       "                var nbb_formatted_code = \"from statsmodels.graphics.tsaplots import plot_acf\\n\\nfig, (ax1, ax2) = plt.subplots(1, 2, figsize=(16, 4))\\n\\nax1.plot(df[\\\"Close/Last\\\"])\\nax1.set_title(\\\"Original Series\\\")\\n\\nplot_acf(df[\\\"Close/Last\\\"], ax=ax2)\";\n",
       "                var nbb_cells = Jupyter.notebook.get_cells();\n",
       "                for (var i = 0; i < nbb_cells.length; ++i) {\n",
       "                    if (nbb_cells[i].input_prompt_number == nbb_cell_id) {\n",
       "                        if (nbb_cells[i].get_text() == nbb_unformatted_code) {\n",
       "                             nbb_cells[i].set_text(nbb_formatted_code);\n",
       "                        }\n",
       "                        break;\n",
       "                    }\n",
       "                }\n",
       "            }, 500);\n",
       "            "
      ],
      "text/plain": [
       "<IPython.core.display.Javascript object>"
      ]
     },
     "metadata": {},
     "output_type": "display_data"
    }
   ],
   "source": [
    "from statsmodels.graphics.tsaplots import plot_acf\n",
    "\n",
    "fig, (ax1, ax2) = plt.subplots(1, 2, figsize=(16, 4))\n",
    "\n",
    "ax1.plot(df[\"Close/Last\"])\n",
    "ax1.set_title(\"Original Series\")\n",
    "\n",
    "plot_acf(df[\"Close/Last\"], ax=ax2)"
   ]
  },
  {
   "cell_type": "markdown",
   "metadata": {},
   "source": [
    "Note: The pair of charts is being repeated because of a bug in the plot_acf() function. \n",
    "\n",
    "All the ACF values are close to 1, this is indicative of a non-stationary sequence. Differencing is needed to make the sequence stationary."
   ]
  },
  {
   "cell_type": "code",
   "execution_count": 13,
   "metadata": {},
   "outputs": [
    {
     "data": {
      "image/png": "[encoded data removed]",
      "text/plain": [
       "<Figure size 1152x288 with 2 Axes>"
      ]
     },
     "execution_count": 13,
     "metadata": {},
     "output_type": "execute_result"
    },
    {
     "data": {
      "image/png": "[encoded data removed]",
      "text/plain": [
       "<Figure size 1152x288 with 2 Axes>"
      ]
     },
     "metadata": {
      "needs_background": "light"
     },
     "output_type": "display_data"
    },
    {
     "data": {
      "application/javascript": [
       "\n",
       "            setTimeout(function() {\n",
       "                var nbb_cell_id = 13;\n",
       "                var nbb_unformatted_code = \"diff = df[\\\"Close/Last\\\"].diff().dropna()\\n\\nfig, (ax1, ax2) = plt.subplots(1, 2, figsize=(16, 4))\\n\\nax1.plot(diff)\\nax1.set_title(\\\"After First Difference\\\")\\n\\nplot_acf(diff, ax=ax2)\";\n",
       "                var nbb_formatted_code = \"diff = df[\\\"Close/Last\\\"].diff().dropna()\\n\\nfig, (ax1, ax2) = plt.subplots(1, 2, figsize=(16, 4))\\n\\nax1.plot(diff)\\nax1.set_title(\\\"After First Difference\\\")\\n\\nplot_acf(diff, ax=ax2)\";\n",
       "                var nbb_cells = Jupyter.notebook.get_cells();\n",
       "                for (var i = 0; i < nbb_cells.length; ++i) {\n",
       "                    if (nbb_cells[i].input_prompt_number == nbb_cell_id) {\n",
       "                        if (nbb_cells[i].get_text() == nbb_unformatted_code) {\n",
       "                             nbb_cells[i].set_text(nbb_formatted_code);\n",
       "                        }\n",
       "                        break;\n",
       "                    }\n",
       "                }\n",
       "            }, 500);\n",
       "            "
      ],
      "text/plain": [
       "<IPython.core.display.Javascript object>"
      ]
     },
     "metadata": {},
     "output_type": "display_data"
    }
   ],
   "source": [
    "diff = df[\"Close/Last\"].diff().dropna()\n",
    "\n",
    "fig, (ax1, ax2) = plt.subplots(1, 2, figsize=(16, 4))\n",
    "\n",
    "ax1.plot(diff)\n",
    "ax1.set_title(\"After First Difference\")\n",
    "\n",
    "plot_acf(diff, ax=ax2)"
   ]
  },
  {
   "cell_type": "markdown",
   "metadata": {},
   "source": [
    "After the first differencing, one can intuitively see that the sequence's mean value is stationary."
   ]
  },
  {
   "cell_type": "markdown",
   "metadata": {},
   "source": [
    "The correct value for the \"i\" term in the ARIMA(p,i,q) model is 1, since that is the number of times the series had to be differentiated to achieve stationarity."
   ]
  },
  {
   "cell_type": "markdown",
   "metadata": {},
   "source": [
    "Another way to get the correct value for the number of differences needed is by use of the ```pmdarima.ndiffs()``` function:"
   ]
  },
  {
   "cell_type": "code",
   "execution_count": 14,
   "metadata": {},
   "outputs": [
    {
     "data": {
      "text/plain": [
       "1"
      ]
     },
     "execution_count": 14,
     "metadata": {},
     "output_type": "execute_result"
    },
    {
     "data": {
      "application/javascript": [
       "\n",
       "            setTimeout(function() {\n",
       "                var nbb_cell_id = 14;\n",
       "                var nbb_unformatted_code = \"# pip install pmdarima\\n\\nfrom pmdarima.arima.utils import ndiffs\\n\\nndiffs(df[\\\"Close/Last\\\"], test=\\\"adf\\\")\";\n",
       "                var nbb_formatted_code = \"# pip install pmdarima\\n\\nfrom pmdarima.arima.utils import ndiffs\\n\\nndiffs(df[\\\"Close/Last\\\"], test=\\\"adf\\\")\";\n",
       "                var nbb_cells = Jupyter.notebook.get_cells();\n",
       "                for (var i = 0; i < nbb_cells.length; ++i) {\n",
       "                    if (nbb_cells[i].input_prompt_number == nbb_cell_id) {\n",
       "                        if (nbb_cells[i].get_text() == nbb_unformatted_code) {\n",
       "                             nbb_cells[i].set_text(nbb_formatted_code);\n",
       "                        }\n",
       "                        break;\n",
       "                    }\n",
       "                }\n",
       "            }, 500);\n",
       "            "
      ],
      "text/plain": [
       "<IPython.core.display.Javascript object>"
      ]
     },
     "metadata": {},
     "output_type": "display_data"
    }
   ],
   "source": [
    "# pip install pmdarima\n",
    "\n",
    "from pmdarima.arima.utils import ndiffs\n",
    "\n",
    "ndiffs(df[\"Close/Last\"], test=\"adf\")"
   ]
  },
  {
   "cell_type": "markdown",
   "metadata": {},
   "source": [
    "**p** and **q**\n",
    "\n",
    "```p``` is the number of lags to be used as predictors and represents the order of the Auto Regressive term of the model equation (the \"p\" in ARIMA(p,i,q)).  The autocorrelation (plotted above) and partial autocorrelation (plotted below) \n",
    "functions are used for determining the \"p\" and \"q\" terms. \n",
    "\n",
    "The **q** term is the order of the **MA** term, or moving average term (the \"q\" in ARIMA(p,i,q) ) .\n",
    "\n"
   ]
  },
  {
   "cell_type": "code",
   "execution_count": 15,
   "metadata": {},
   "outputs": [
    {
     "data": {
      "image/png": "[encoded data removed]",
      "text/plain": [
       "<Figure size 1152x288 with 2 Axes>"
      ]
     },
     "execution_count": 15,
     "metadata": {},
     "output_type": "execute_result"
    },
    {
     "data": {
      "image/png": "[encoded data removed]",
      "text/plain": [
       "<Figure size 1152x288 with 2 Axes>"
      ]
     },
     "metadata": {
      "needs_background": "light"
     },
     "output_type": "display_data"
    },
    {
     "data": {
      "application/javascript": [
       "\n",
       "            setTimeout(function() {\n",
       "                var nbb_cell_id = 15;\n",
       "                var nbb_unformatted_code = \"from statsmodels.graphics.tsaplots import plot_pacf\\n\\ndiff = df[\\\"Close/Last\\\"].diff().dropna()\\nfig, (x1, x2) = plt.subplots(1, 2, figsize=(16, 4))\\n\\nax1.plot(diff)\\nax1.set_title(\\\"Difference once\\\")\\nax2.set_ylim(0, 1)\\n\\nplot_pacf(diff, ax=ax2)\";\n",
       "                var nbb_formatted_code = \"from statsmodels.graphics.tsaplots import plot_pacf\\n\\ndiff = df[\\\"Close/Last\\\"].diff().dropna()\\nfig, (x1, x2) = plt.subplots(1, 2, figsize=(16, 4))\\n\\nax1.plot(diff)\\nax1.set_title(\\\"Difference once\\\")\\nax2.set_ylim(0, 1)\\n\\nplot_pacf(diff, ax=ax2)\";\n",
       "                var nbb_cells = Jupyter.notebook.get_cells();\n",
       "                for (var i = 0; i < nbb_cells.length; ++i) {\n",
       "                    if (nbb_cells[i].input_prompt_number == nbb_cell_id) {\n",
       "                        if (nbb_cells[i].get_text() == nbb_unformatted_code) {\n",
       "                             nbb_cells[i].set_text(nbb_formatted_code);\n",
       "                        }\n",
       "                        break;\n",
       "                    }\n",
       "                }\n",
       "            }, 500);\n",
       "            "
      ],
      "text/plain": [
       "<IPython.core.display.Javascript object>"
      ]
     },
     "metadata": {},
     "output_type": "display_data"
    }
   ],
   "source": [
    "from statsmodels.graphics.tsaplots import plot_pacf\n",
    "\n",
    "diff = df[\"Close/Last\"].diff().dropna()\n",
    "fig, (x1, x2) = plt.subplots(1, 2, figsize=(16, 4))\n",
    "\n",
    "ax1.plot(diff)\n",
    "ax1.set_title(\"Difference once\")\n",
    "ax2.set_ylim(0, 1)\n",
    "\n",
    "plot_pacf(diff, ax=ax2)"
   ]
  },
  {
   "cell_type": "markdown",
   "metadata": {},
   "source": [
    "(The second pair of plots in the bottom row is due to a bug in the plot_pacf() function.)"
   ]
  },
  {
   "cell_type": "markdown",
   "metadata": {},
   "source": [
    "A more effective method is to let the values for **p**, **i**, and **q** be computed automatically via the ```auto_arima()``` function:"
   ]
  },
  {
   "cell_type": "code",
   "execution_count": 16,
   "metadata": {},
   "outputs": [
    {
     "name": "stdout",
     "output_type": "stream",
     "text": [
      "Performing stepwise search to minimize aic\n",
      " ARIMA(2,2,2)(0,0,0)[0]             : AIC=inf, Time=1.42 sec\n",
      " ARIMA(0,2,0)(0,0,0)[0]             : AIC=4825.502, Time=0.05 sec\n",
      " ARIMA(1,2,0)(0,0,0)[0]             : AIC=4346.589, Time=0.10 sec\n",
      " ARIMA(0,2,1)(0,0,0)[0]             : AIC=inf, Time=0.28 sec\n",
      " ARIMA(2,2,0)(0,0,0)[0]             : AIC=4232.580, Time=0.11 sec\n",
      " ARIMA(3,2,0)(0,0,0)[0]             : AIC=4170.856, Time=0.20 sec\n",
      " ARIMA(4,2,0)(0,0,0)[0]             : AIC=4093.066, Time=0.19 sec\n",
      " ARIMA(5,2,0)(0,0,0)[0]             : AIC=4081.816, Time=0.26 sec\n",
      " ARIMA(5,2,1)(0,0,0)[0]             : AIC=inf, Time=1.04 sec\n",
      " ARIMA(4,2,1)(0,0,0)[0]             : AIC=inf, Time=1.68 sec\n",
      " ARIMA(5,2,0)(0,0,0)[0] intercept   : AIC=4083.813, Time=0.57 sec\n",
      "\n",
      "Best model:  ARIMA(5,2,0)(0,0,0)[0]          \n",
      "Total fit time: 5.915 seconds\n"
     ]
    },
    {
     "data": {
      "text/html": [
       "<table class=\"simpletable\">\n",
       "<caption>SARIMAX Results</caption>\n",
       "<tr>\n",
       "  <th>Dep. Variable:</th>           <td>y</td>        <th>  No. Observations:  </th>   <td>1259</td>   \n",
       "</tr>\n",
       "<tr>\n",
       "  <th>Model:</th>           <td>SARIMAX(5, 2, 0)</td> <th>  Log Likelihood     </th> <td>-2034.908</td>\n",
       "</tr>\n",
       "<tr>\n",
       "  <th>Date:</th>            <td>Sun, 01 Aug 2021</td> <th>  AIC                </th> <td>4081.816</td> \n",
       "</tr>\n",
       "<tr>\n",
       "  <th>Time:</th>                <td>20:46:57</td>     <th>  BIC                </th> <td>4112.635</td> \n",
       "</tr>\n",
       "<tr>\n",
       "  <th>Sample:</th>                  <td>0</td>        <th>  HQIC               </th> <td>4093.399</td> \n",
       "</tr>\n",
       "<tr>\n",
       "  <th></th>                      <td> - 1259</td>     <th>                     </th>     <td> </td>    \n",
       "</tr>\n",
       "<tr>\n",
       "  <th>Covariance Type:</th>        <td>opg</td>       <th>                     </th>     <td> </td>    \n",
       "</tr>\n",
       "</table>\n",
       "<table class=\"simpletable\">\n",
       "<tr>\n",
       "     <td></td>       <th>coef</th>     <th>std err</th>      <th>z</th>      <th>P>|z|</th>  <th>[0.025</th>    <th>0.975]</th>  \n",
       "</tr>\n",
       "<tr>\n",
       "  <th>ar.L1</th>  <td>   -0.8779</td> <td>    0.017</td> <td>  -50.210</td> <td> 0.000</td> <td>   -0.912</td> <td>   -0.844</td>\n",
       "</tr>\n",
       "<tr>\n",
       "  <th>ar.L2</th>  <td>   -0.6170</td> <td>    0.024</td> <td>  -26.198</td> <td> 0.000</td> <td>   -0.663</td> <td>   -0.571</td>\n",
       "</tr>\n",
       "<tr>\n",
       "  <th>ar.L3</th>  <td>   -0.4798</td> <td>    0.026</td> <td>  -18.170</td> <td> 0.000</td> <td>   -0.532</td> <td>   -0.428</td>\n",
       "</tr>\n",
       "<tr>\n",
       "  <th>ar.L4</th>  <td>   -0.3361</td> <td>    0.025</td> <td>  -13.631</td> <td> 0.000</td> <td>   -0.384</td> <td>   -0.288</td>\n",
       "</tr>\n",
       "<tr>\n",
       "  <th>ar.L5</th>  <td>   -0.1026</td> <td>    0.018</td> <td>   -5.566</td> <td> 0.000</td> <td>   -0.139</td> <td>   -0.066</td>\n",
       "</tr>\n",
       "<tr>\n",
       "  <th>sigma2</th> <td>    1.4904</td> <td>    0.031</td> <td>   48.843</td> <td> 0.000</td> <td>    1.431</td> <td>    1.550</td>\n",
       "</tr>\n",
       "</table>\n",
       "<table class=\"simpletable\">\n",
       "<tr>\n",
       "  <th>Ljung-Box (L1) (Q):</th>     <td>0.54</td>  <th>  Jarque-Bera (JB):  </th> <td>1817.21</td>\n",
       "</tr>\n",
       "<tr>\n",
       "  <th>Prob(Q):</th>                <td>0.46</td>  <th>  Prob(JB):          </th>  <td>0.00</td>  \n",
       "</tr>\n",
       "<tr>\n",
       "  <th>Heteroskedasticity (H):</th> <td>10.37</td> <th>  Skew:              </th>  <td>-0.24</td> \n",
       "</tr>\n",
       "<tr>\n",
       "  <th>Prob(H) (two-sided):</th>    <td>0.00</td>  <th>  Kurtosis:          </th>  <td>8.87</td>  \n",
       "</tr>\n",
       "</table><br/><br/>Warnings:<br/>[1] Covariance matrix calculated using the outer product of gradients (complex-step)."
      ],
      "text/plain": [
       "<class 'statsmodels.iolib.summary.Summary'>\n",
       "\"\"\"\n",
       "                               SARIMAX Results                                \n",
       "==============================================================================\n",
       "Dep. Variable:                      y   No. Observations:                 1259\n",
       "Model:               SARIMAX(5, 2, 0)   Log Likelihood               -2034.908\n",
       "Date:                Sun, 01 Aug 2021   AIC                           4081.816\n",
       "Time:                        20:46:57   BIC                           4112.635\n",
       "Sample:                             0   HQIC                          4093.399\n",
       "                               - 1259                                         \n",
       "Covariance Type:                  opg                                         \n",
       "==============================================================================\n",
       "                 coef    std err          z      P>|z|      [0.025      0.975]\n",
       "------------------------------------------------------------------------------\n",
       "ar.L1         -0.8779      0.017    -50.210      0.000      -0.912      -0.844\n",
       "ar.L2         -0.6170      0.024    -26.198      0.000      -0.663      -0.571\n",
       "ar.L3         -0.4798      0.026    -18.170      0.000      -0.532      -0.428\n",
       "ar.L4         -0.3361      0.025    -13.631      0.000      -0.384      -0.288\n",
       "ar.L5         -0.1026      0.018     -5.566      0.000      -0.139      -0.066\n",
       "sigma2         1.4904      0.031     48.843      0.000       1.431       1.550\n",
       "===================================================================================\n",
       "Ljung-Box (L1) (Q):                   0.54   Jarque-Bera (JB):              1817.21\n",
       "Prob(Q):                              0.46   Prob(JB):                         0.00\n",
       "Heteroskedasticity (H):              10.37   Skew:                            -0.24\n",
       "Prob(H) (two-sided):                  0.00   Kurtosis:                         8.87\n",
       "===================================================================================\n",
       "\n",
       "Warnings:\n",
       "[1] Covariance matrix calculated using the outer product of gradients (complex-step).\n",
       "\"\"\""
      ]
     },
     "execution_count": 16,
     "metadata": {},
     "output_type": "execute_result"
    },
    {
     "data": {
      "application/javascript": [
       "\n",
       "            setTimeout(function() {\n",
       "                var nbb_cell_id = 16;\n",
       "                var nbb_unformatted_code = \"warnings.filterwarnings(\\\"ignore\\\")\\nstepwise_fit = auto_arima(df[\\\"Close/Last\\\"], trace=True, supress_warnings=True)\\n\\nstepwise_fit.summary()\";\n",
       "                var nbb_formatted_code = \"warnings.filterwarnings(\\\"ignore\\\")\\nstepwise_fit = auto_arima(df[\\\"Close/Last\\\"], trace=True, supress_warnings=True)\\n\\nstepwise_fit.summary()\";\n",
       "                var nbb_cells = Jupyter.notebook.get_cells();\n",
       "                for (var i = 0; i < nbb_cells.length; ++i) {\n",
       "                    if (nbb_cells[i].input_prompt_number == nbb_cell_id) {\n",
       "                        if (nbb_cells[i].get_text() == nbb_unformatted_code) {\n",
       "                             nbb_cells[i].set_text(nbb_formatted_code);\n",
       "                        }\n",
       "                        break;\n",
       "                    }\n",
       "                }\n",
       "            }, 500);\n",
       "            "
      ],
      "text/plain": [
       "<IPython.core.display.Javascript object>"
      ]
     },
     "metadata": {},
     "output_type": "display_data"
    }
   ],
   "source": [
    "warnings.filterwarnings(\"ignore\")\n",
    "stepwise_fit = auto_arima(df[\"Close/Last\"], trace=True, supress_warnings=True)\n",
    "\n",
    "stepwise_fit.summary()"
   ]
  },
  {
   "cell_type": "markdown",
   "metadata": {},
   "source": [
    "We can see that the automatically computed values (1,1,0) produces the lowest Akaike's Information Criterion (AIC)."
   ]
  },
  {
   "cell_type": "markdown",
   "metadata": {},
   "source": [
    "We now fit the ARIMA model:"
   ]
  },
  {
   "cell_type": "code",
   "execution_count": 17,
   "metadata": {},
   "outputs": [
    {
     "name": "stdout",
     "output_type": "stream",
     "text": [
      "                             ARIMA Model Results                              \n",
      "==============================================================================\n",
      "Dep. Variable:           D.Close/Last   No. Observations:                 1258\n",
      "Model:                 ARIMA(1, 1, 0)   Log Likelihood               -1930.813\n",
      "Method:                       css-mle   S.D. of innovations              1.123\n",
      "Date:                Sun, 01 Aug 2021   AIC                           3867.626\n",
      "Time:                        20:46:57   BIC                           3883.038\n",
      "Sample:                             1   HQIC                          3873.418\n",
      "                                                                              \n",
      "======================================================================================\n",
      "                         coef    std err          z      P>|z|      [0.025      0.975]\n",
      "--------------------------------------------------------------------------------------\n",
      "const                  0.0601      0.030      2.034      0.042       0.002       0.118\n",
      "ar.L1.D.Close/Last    -0.0712      0.028     -2.533      0.011      -0.126      -0.016\n",
      "                                    Roots                                    \n",
      "=============================================================================\n",
      "                  Real          Imaginary           Modulus         Frequency\n",
      "-----------------------------------------------------------------------------\n",
      "AR.1          -14.0389           +0.0000j           14.0389            0.5000\n",
      "-----------------------------------------------------------------------------\n"
     ]
    },
    {
     "data": {
      "application/javascript": [
       "\n",
       "            setTimeout(function() {\n",
       "                var nbb_cell_id = 17;\n",
       "                var nbb_unformatted_code = \"warnings.filterwarnings(\\\"ignore\\\")\\n\\nfrom statsmodels.tsa.arima_model import ARIMA\\n\\nmodel = ARIMA(df[\\\"Close/Last\\\"], order=(1, 1, 0))\\nresult = model.fit(disp=0)\\nprint(result.summary())\";\n",
       "                var nbb_formatted_code = \"warnings.filterwarnings(\\\"ignore\\\")\\n\\nfrom statsmodels.tsa.arima_model import ARIMA\\n\\nmodel = ARIMA(df[\\\"Close/Last\\\"], order=(1, 1, 0))\\nresult = model.fit(disp=0)\\nprint(result.summary())\";\n",
       "                var nbb_cells = Jupyter.notebook.get_cells();\n",
       "                for (var i = 0; i < nbb_cells.length; ++i) {\n",
       "                    if (nbb_cells[i].input_prompt_number == nbb_cell_id) {\n",
       "                        if (nbb_cells[i].get_text() == nbb_unformatted_code) {\n",
       "                             nbb_cells[i].set_text(nbb_formatted_code);\n",
       "                        }\n",
       "                        break;\n",
       "                    }\n",
       "                }\n",
       "            }, 500);\n",
       "            "
      ],
      "text/plain": [
       "<IPython.core.display.Javascript object>"
      ]
     },
     "metadata": {},
     "output_type": "display_data"
    }
   ],
   "source": [
    "warnings.filterwarnings(\"ignore\")\n",
    "\n",
    "from statsmodels.tsa.arima_model import ARIMA\n",
    "\n",
    "model = ARIMA(df[\"Close/Last\"], order=(1, 1, 0))\n",
    "result = model.fit(disp=0)\n",
    "print(result.summary())"
   ]
  },
  {
   "cell_type": "markdown",
   "metadata": {},
   "source": [
    "### Residuals \n",
    "\n",
    "The “residuals” in a time series model are what is left over after fitting a model. For many (but not all) time series models, the residuals are equal to the difference between the observations and the corresponding fitted values.\n",
    "\n",
    "Residuals are useful in checking whether a model has adequately captured the information in the data. A good forecasting method will yield residuals with the following properties:\n",
    "\n",
    "* The residuals are uncorrelated. If there are correlations between residuals, then there is information left in the residuals which should be used in computing forecasts.\n",
    "\n",
    "* The residuals have zero mean. If the residuals have a mean other than zero, then the forecasts are biased."
   ]
  },
  {
   "cell_type": "code",
   "execution_count": 18,
   "metadata": {},
   "outputs": [
    {
     "data": {
      "text/plain": [
       "(array([0.00243444, 0.00304305, 0.00912916, 0.04381997, 0.32925841,\n",
       "        0.31891202, 0.04442858, 0.00973777, 0.00121722, 0.00365166]),\n",
       " array([-6.5467176 , -5.24060761, -3.93449762, -2.62838763, -1.32227763,\n",
       "        -0.01616764,  1.28994235,  2.59605234,  3.90216233,  5.20827232,\n",
       "         6.51438232]),\n",
       " <BarContainer object of 10 artists>)"
      ]
     },
     "execution_count": 18,
     "metadata": {},
     "output_type": "execute_result"
    },
    {
     "data": {
      "image/png": "[encoded data removed]",
      "text/plain": [
       "<Figure size 1152x288 with 2 Axes>"
      ]
     },
     "metadata": {
      "needs_background": "light"
     },
     "output_type": "display_data"
    },
    {
     "data": {
      "application/javascript": [
       "\n",
       "            setTimeout(function() {\n",
       "                var nbb_cell_id = 18;\n",
       "                var nbb_unformatted_code = \"# Residuals\\n\\nresiduals = pd.DataFrame(result.resid)\\n\\nfig, (ax1, ax2) = plt.subplots(1, 2, figsize=(16, 4))\\n\\nax1.plot(residuals)\\nax2.hist(residuals, density=True)\";\n",
       "                var nbb_formatted_code = \"# Residuals\\n\\nresiduals = pd.DataFrame(result.resid)\\n\\nfig, (ax1, ax2) = plt.subplots(1, 2, figsize=(16, 4))\\n\\nax1.plot(residuals)\\nax2.hist(residuals, density=True)\";\n",
       "                var nbb_cells = Jupyter.notebook.get_cells();\n",
       "                for (var i = 0; i < nbb_cells.length; ++i) {\n",
       "                    if (nbb_cells[i].input_prompt_number == nbb_cell_id) {\n",
       "                        if (nbb_cells[i].get_text() == nbb_unformatted_code) {\n",
       "                             nbb_cells[i].set_text(nbb_formatted_code);\n",
       "                        }\n",
       "                        break;\n",
       "                    }\n",
       "                }\n",
       "            }, 500);\n",
       "            "
      ],
      "text/plain": [
       "<IPython.core.display.Javascript object>"
      ]
     },
     "metadata": {},
     "output_type": "display_data"
    }
   ],
   "source": [
    "# Residuals\n",
    "\n",
    "residuals = pd.DataFrame(result.resid)\n",
    "\n",
    "fig, (ax1, ax2) = plt.subplots(1, 2, figsize=(16, 4))\n",
    "\n",
    "ax1.plot(residuals)\n",
    "ax2.hist(residuals, density=True)"
   ]
  },
  {
   "cell_type": "markdown",
   "metadata": {},
   "source": [
    "Here we see the residuals' mean is around 0."
   ]
  },
  {
   "cell_type": "markdown",
   "metadata": {},
   "source": [
    "We not plot the first 60 days of the stock prices and the predicted values.  We can see the predicted values pretty much follow the actual values, which is a good indication that our model is a good fit.  But in this case the model is making predictions using the same training data."
   ]
  },
  {
   "cell_type": "code",
   "execution_count": 19,
   "metadata": {},
   "outputs": [
    {
     "data": {
      "image/png": "[encoded data removed]",
      "text/plain": [
       "<Figure size 432x288 with 1 Axes>"
      ]
     },
     "metadata": {
      "needs_background": "light"
     },
     "output_type": "display_data"
    },
    {
     "data": {
      "application/javascript": [
       "\n",
       "            setTimeout(function() {\n",
       "                var nbb_cell_id = 19;\n",
       "                var nbb_unformatted_code = \"fig, ax = plt.subplots()\\nax.plot(\\n    result.predict(start=1, end=60, dynamic=False, typ=\\\"levels\\\"),\\n    label=\\\"Predicted\\\",\\n)\\nax.plot(df[\\\"Close/Last\\\"].head(60), label=\\\"Actual\\\")\\nleg = ax.legend()\";\n",
       "                var nbb_formatted_code = \"fig, ax = plt.subplots()\\nax.plot(\\n    result.predict(start=1, end=60, dynamic=False, typ=\\\"levels\\\"),\\n    label=\\\"Predicted\\\",\\n)\\nax.plot(df[\\\"Close/Last\\\"].head(60), label=\\\"Actual\\\")\\nleg = ax.legend()\";\n",
       "                var nbb_cells = Jupyter.notebook.get_cells();\n",
       "                for (var i = 0; i < nbb_cells.length; ++i) {\n",
       "                    if (nbb_cells[i].input_prompt_number == nbb_cell_id) {\n",
       "                        if (nbb_cells[i].get_text() == nbb_unformatted_code) {\n",
       "                             nbb_cells[i].set_text(nbb_formatted_code);\n",
       "                        }\n",
       "                        break;\n",
       "                    }\n",
       "                }\n",
       "            }, 500);\n",
       "            "
      ],
      "text/plain": [
       "<IPython.core.display.Javascript object>"
      ]
     },
     "metadata": {},
     "output_type": "display_data"
    }
   ],
   "source": [
    "fig, ax = plt.subplots()\n",
    "ax.plot(\n",
    "    result.predict(start=1, end=60, dynamic=False, typ=\"levels\"),\n",
    "    label=\"Predicted\",\n",
    ")\n",
    "ax.plot(df[\"Close/Last\"].head(60), label=\"Actual\")\n",
    "leg = ax.legend()"
   ]
  },
  {
   "cell_type": "markdown",
   "metadata": {},
   "source": [
    "### Test sets and predictions\n",
    "\n",
    "\n",
    "Here we split the dataset into training and testing sets.\n",
    "Training set goes from the first date in the original dataset until the record at the 80% mark.\n",
    "Test set goes from 80% to the rest of the records.\n",
    "For example, if there are 1258 records, the training set will include the first 1006, while the test set will include the remaining 252."
   ]
  },
  {
   "cell_type": "code",
   "execution_count": 20,
   "metadata": {},
   "outputs": [
    {
     "name": "stdout",
     "output_type": "stream",
     "text": [
      "252\n",
      "1007\n",
      "1259\n"
     ]
    },
    {
     "data": {
      "text/plain": [
       "Date\n",
       "2020-07-31     47.46\n",
       "2020-08-03     48.60\n",
       "2020-08-04     50.96\n",
       "2020-08-05     52.46\n",
       "2020-08-06     58.15\n",
       "               ...  \n",
       "2021-07-26    102.70\n",
       "2021-07-27    100.55\n",
       "2021-07-28    101.56\n",
       "2021-07-29    103.68\n",
       "2021-07-30    104.50\n",
       "Name: Close/Last, Length: 252, dtype: float64"
      ]
     },
     "execution_count": 20,
     "metadata": {},
     "output_type": "execute_result"
    },
    {
     "data": {
      "application/javascript": [
       "\n",
       "            setTimeout(function() {\n",
       "                var nbb_cell_id = 20;\n",
       "                var nbb_unformatted_code = \"howmany = int(len(df) * 0.8)\\ntr_set = df[\\\"Close/Last\\\"][:howmany]\\nts_set = df[\\\"Close/Last\\\"][howmany:]\\nprint(len(ts_set))\\nprint(len(tr_set))\\nprint(len(df))\\nts_set\";\n",
       "                var nbb_formatted_code = \"howmany = int(len(df) * 0.8)\\ntr_set = df[\\\"Close/Last\\\"][:howmany]\\nts_set = df[\\\"Close/Last\\\"][howmany:]\\nprint(len(ts_set))\\nprint(len(tr_set))\\nprint(len(df))\\nts_set\";\n",
       "                var nbb_cells = Jupyter.notebook.get_cells();\n",
       "                for (var i = 0; i < nbb_cells.length; ++i) {\n",
       "                    if (nbb_cells[i].input_prompt_number == nbb_cell_id) {\n",
       "                        if (nbb_cells[i].get_text() == nbb_unformatted_code) {\n",
       "                             nbb_cells[i].set_text(nbb_formatted_code);\n",
       "                        }\n",
       "                        break;\n",
       "                    }\n",
       "                }\n",
       "            }, 500);\n",
       "            "
      ],
      "text/plain": [
       "<IPython.core.display.Javascript object>"
      ]
     },
     "metadata": {},
     "output_type": "display_data"
    }
   ],
   "source": [
    "howmany = int(len(df) * 0.8)\n",
    "tr_set = df[\"Close/Last\"][:howmany]\n",
    "ts_set = df[\"Close/Last\"][howmany:]\n",
    "print(len(ts_set))\n",
    "print(len(tr_set))\n",
    "print(len(df))\n",
    "ts_set"
   ]
  },
  {
   "cell_type": "code",
   "execution_count": 21,
   "metadata": {},
   "outputs": [
    {
     "data": {
      "text/plain": [
       "Date\n",
       "2016-08-01    28.86\n",
       "2016-08-02    28.57\n",
       "2016-08-03    28.56\n",
       "2016-08-04    28.90\n",
       "2016-08-05    30.24\n",
       "              ...  \n",
       "2020-07-24    45.97\n",
       "2020-07-27    47.79\n",
       "2020-07-28    47.02\n",
       "2020-07-29    47.88\n",
       "2020-07-30    47.75\n",
       "Name: Close/Last, Length: 1007, dtype: float64"
      ]
     },
     "execution_count": 21,
     "metadata": {},
     "output_type": "execute_result"
    },
    {
     "data": {
      "application/javascript": [
       "\n",
       "            setTimeout(function() {\n",
       "                var nbb_cell_id = 21;\n",
       "                var nbb_unformatted_code = \"tr_set\";\n",
       "                var nbb_formatted_code = \"tr_set\";\n",
       "                var nbb_cells = Jupyter.notebook.get_cells();\n",
       "                for (var i = 0; i < nbb_cells.length; ++i) {\n",
       "                    if (nbb_cells[i].input_prompt_number == nbb_cell_id) {\n",
       "                        if (nbb_cells[i].get_text() == nbb_unformatted_code) {\n",
       "                             nbb_cells[i].set_text(nbb_formatted_code);\n",
       "                        }\n",
       "                        break;\n",
       "                    }\n",
       "                }\n",
       "            }, 500);\n",
       "            "
      ],
      "text/plain": [
       "<IPython.core.display.Javascript object>"
      ]
     },
     "metadata": {},
     "output_type": "display_data"
    }
   ],
   "source": [
    "tr_set"
   ]
  },
  {
   "cell_type": "markdown",
   "metadata": {},
   "source": [
    "We now fit the model to our training set."
   ]
  },
  {
   "cell_type": "code",
   "execution_count": 22,
   "metadata": {},
   "outputs": [
    {
     "name": "stdout",
     "output_type": "stream",
     "text": [
      "                             ARIMA Model Results                              \n",
      "==============================================================================\n",
      "Dep. Variable:           D.Close/Last   No. Observations:                 1006\n",
      "Model:                 ARIMA(1, 1, 0)   Log Likelihood               -1250.630\n",
      "Method:                       css-mle   S.D. of innovations              0.839\n",
      "Date:                Sun, 01 Aug 2021   AIC                           2507.260\n",
      "Time:                        20:46:58   BIC                           2522.001\n",
      "Sample:                             1   HQIC                          2512.861\n",
      "                                                                              \n",
      "======================================================================================\n",
      "                         coef    std err          z      P>|z|      [0.025      0.975]\n",
      "--------------------------------------------------------------------------------------\n",
      "const                  0.0188      0.023      0.821      0.412      -0.026       0.064\n",
      "ar.L1.D.Close/Last    -0.1527      0.031     -4.904      0.000      -0.214      -0.092\n",
      "                                    Roots                                    \n",
      "=============================================================================\n",
      "                  Real          Imaginary           Modulus         Frequency\n",
      "-----------------------------------------------------------------------------\n",
      "AR.1           -6.5479           +0.0000j            6.5479            0.5000\n",
      "-----------------------------------------------------------------------------\n"
     ]
    },
    {
     "data": {
      "application/javascript": [
       "\n",
       "            setTimeout(function() {\n",
       "                var nbb_cell_id = 22;\n",
       "                var nbb_unformatted_code = \"model = ARIMA(tr_set, order=(1, 1, 0))\\nresult = model.fit(disp=0)\\nprint(result.summary())\";\n",
       "                var nbb_formatted_code = \"model = ARIMA(tr_set, order=(1, 1, 0))\\nresult = model.fit(disp=0)\\nprint(result.summary())\";\n",
       "                var nbb_cells = Jupyter.notebook.get_cells();\n",
       "                for (var i = 0; i < nbb_cells.length; ++i) {\n",
       "                    if (nbb_cells[i].input_prompt_number == nbb_cell_id) {\n",
       "                        if (nbb_cells[i].get_text() == nbb_unformatted_code) {\n",
       "                             nbb_cells[i].set_text(nbb_formatted_code);\n",
       "                        }\n",
       "                        break;\n",
       "                    }\n",
       "                }\n",
       "            }, 500);\n",
       "            "
      ],
      "text/plain": [
       "<IPython.core.display.Javascript object>"
      ]
     },
     "metadata": {},
     "output_type": "display_data"
    }
   ],
   "source": [
    "model = ARIMA(tr_set, order=(1, 1, 0))\n",
    "result = model.fit(disp=0)\n",
    "print(result.summary())"
   ]
  },
  {
   "cell_type": "markdown",
   "metadata": {},
   "source": [
    "And here we forecast the next 30 days of closing prices, starting with the first date of the test set."
   ]
  },
  {
   "cell_type": "code",
   "execution_count": 23,
   "metadata": {},
   "outputs": [
    {
     "name": "stdout",
     "output_type": "stream",
     "text": [
      "[47.79156837 47.8069345  47.82630228 47.84505893 47.86390891 47.88274463\n",
      " 47.90158253 47.9204201  47.93925772 47.95809533 47.97693294 47.99577056\n",
      " 48.01460817 48.03344578 48.0522834  48.07112101 48.08995862 48.10879623\n",
      " 48.12763385 48.14647146 48.16530907 48.18414669 48.2029843  48.22182191\n",
      " 48.24065952 48.25949714 48.27833475 48.29717236 48.31600998 48.33484759]\n",
      "[0.83880311 1.09940189 1.31983699 1.50695052 1.67346766 1.82482513\n",
      " 1.96455973 2.09499422 2.21777073 2.33409793 2.44489658 2.55088719\n",
      " 2.65264615 2.75064316 2.84526693 2.93684356 3.02564972 3.11192262\n",
      " 3.19586742 3.277663   3.35746644 3.43541657 3.51163682 3.58623749\n",
      " 3.65931763 3.73096658 3.80126529 3.87028732 3.93809981 4.0047642 ]\n",
      "[[46.14754447 49.43559226]\n",
      " [45.65214639 49.9617226 ]\n",
      " [45.23946932 50.41313524]\n",
      " [44.89149018 50.79862768]\n",
      " [44.58397256 51.14384525]\n",
      " [44.30615311 51.45933615]\n",
      " [44.05111621 51.75204885]\n",
      " [43.81430688 52.02653332]\n",
      " [43.59250697 52.28600847]\n",
      " [43.38334745 52.53284321]\n",
      " [43.1850237  52.76884219]\n",
      " [42.99612354 52.99541758]\n",
      " [42.81551725 53.21369909]\n",
      " [42.64228426 53.4246073 ]\n",
      " [42.47566268 53.62890411]\n",
      " [42.31501341 53.82722861]\n",
      " [42.15979414 54.02012311]\n",
      " [42.00953997 54.20805249]\n",
      " [41.86384881 54.39141889]\n",
      " [41.72237004 54.57057288]\n",
      " [41.58479578 54.74582237]\n",
      " [41.45085393 54.91743944]\n",
      " [41.3203026  55.085666  ]\n",
      " [41.19292559 55.25071823]\n",
      " [41.06852877 55.41279028]\n",
      " [40.94693701 55.57205727]\n",
      " [40.82799169 55.72867781]\n",
      " [40.7115486  55.88279613]\n",
      " [40.59747618 56.03454377]\n",
      " [40.485654   56.18404118]]\n"
     ]
    },
    {
     "data": {
      "application/javascript": [
       "\n",
       "            setTimeout(function() {\n",
       "                var nbb_cell_id = 23;\n",
       "                var nbb_unformatted_code = \"step = 30\\n\\nfc, se, conf = result.forecast(step)\\n\\nprint(fc)  # 30 day forecasts\\nprint(se)  # Standard errors\\nprint(conf)  # Confidence levels\";\n",
       "                var nbb_formatted_code = \"step = 30\\n\\nfc, se, conf = result.forecast(step)\\n\\nprint(fc)  # 30 day forecasts\\nprint(se)  # Standard errors\\nprint(conf)  # Confidence levels\";\n",
       "                var nbb_cells = Jupyter.notebook.get_cells();\n",
       "                for (var i = 0; i < nbb_cells.length; ++i) {\n",
       "                    if (nbb_cells[i].input_prompt_number == nbb_cell_id) {\n",
       "                        if (nbb_cells[i].get_text() == nbb_unformatted_code) {\n",
       "                             nbb_cells[i].set_text(nbb_formatted_code);\n",
       "                        }\n",
       "                        break;\n",
       "                    }\n",
       "                }\n",
       "            }, 500);\n",
       "            "
      ],
      "text/plain": [
       "<IPython.core.display.Javascript object>"
      ]
     },
     "metadata": {},
     "output_type": "display_data"
    }
   ],
   "source": [
    "step = 30\n",
    "\n",
    "fc, se, conf = result.forecast(step)\n",
    "\n",
    "print(fc)  # 30 day forecasts\n",
    "print(se)  # Standard errors\n",
    "print(conf)  # Confidence levels"
   ]
  },
  {
   "cell_type": "code",
   "execution_count": 24,
   "metadata": {},
   "outputs": [
    {
     "data": {
      "text/plain": [
       "<matplotlib.legend.Legend at 0x7fa77cee9400>"
      ]
     },
     "execution_count": 24,
     "metadata": {},
     "output_type": "execute_result"
    },
    {
     "data": {
      "image/png": "[encoded data removed]",
      "text/plain": [
       "<Figure size 1152x576 with 1 Axes>"
      ]
     },
     "metadata": {
      "needs_background": "light"
     },
     "output_type": "display_data"
    },
    {
     "data": {
      "application/javascript": [
       "\n",
       "            setTimeout(function() {\n",
       "                var nbb_cell_id = 24;\n",
       "                var nbb_unformatted_code = \"fc = pd.Series(fc, index=ts_set[:step].index)\\n\\nlower = pd.Series(conf[:, 0], index=ts_set[:step].index)\\nupper = pd.Series(conf[:, 1], index=ts_set[:step].index)\\n\\nplt.figure(figsize=(16, 8))\\nplt.plot(ts_set[:step], label=\\\"actual\\\")\\nplt.plot(fc, label=\\\"forecast\\\")\\nplt.fill_between(lower.index, lower, upper, color=\\\"k\\\", alpha=0.1)\\nplt.title(\\\"Forecast vs Actual\\\")\\nplt.legend(loc=\\\"upper left\\\")\";\n",
       "                var nbb_formatted_code = \"fc = pd.Series(fc, index=ts_set[:step].index)\\n\\nlower = pd.Series(conf[:, 0], index=ts_set[:step].index)\\nupper = pd.Series(conf[:, 1], index=ts_set[:step].index)\\n\\nplt.figure(figsize=(16, 8))\\nplt.plot(ts_set[:step], label=\\\"actual\\\")\\nplt.plot(fc, label=\\\"forecast\\\")\\nplt.fill_between(lower.index, lower, upper, color=\\\"k\\\", alpha=0.1)\\nplt.title(\\\"Forecast vs Actual\\\")\\nplt.legend(loc=\\\"upper left\\\")\";\n",
       "                var nbb_cells = Jupyter.notebook.get_cells();\n",
       "                for (var i = 0; i < nbb_cells.length; ++i) {\n",
       "                    if (nbb_cells[i].input_prompt_number == nbb_cell_id) {\n",
       "                        if (nbb_cells[i].get_text() == nbb_unformatted_code) {\n",
       "                             nbb_cells[i].set_text(nbb_formatted_code);\n",
       "                        }\n",
       "                        break;\n",
       "                    }\n",
       "                }\n",
       "            }, 500);\n",
       "            "
      ],
      "text/plain": [
       "<IPython.core.display.Javascript object>"
      ]
     },
     "metadata": {},
     "output_type": "display_data"
    }
   ],
   "source": [
    "fc = pd.Series(fc, index=ts_set[:step].index)\n",
    "\n",
    "lower = pd.Series(conf[:, 0], index=ts_set[:step].index)\n",
    "upper = pd.Series(conf[:, 1], index=ts_set[:step].index)\n",
    "\n",
    "plt.figure(figsize=(16, 8))\n",
    "plt.plot(ts_set[:step], label=\"actual\")\n",
    "plt.plot(fc, label=\"forecast\")\n",
    "plt.fill_between(lower.index, lower, upper, color=\"k\", alpha=0.1)\n",
    "plt.title(\"Forecast vs Actual\")\n",
    "plt.legend(loc=\"upper left\")"
   ]
  },
  {
   "cell_type": "markdown",
   "metadata": {},
   "source": [
    "The model was able to predict correct values up to about a week in the future.  After that, predictions are not as precise, even leaving the confidence area during the second week.\n",
    "This demonstrates that this time-series algoritm cannot be used for long-term forcasting of stock prices. \n",
    "In general, there are many factors that go into determining a stock's price, and time-series anaylsis is not suitable to make these predictions, but the algorithm serves to give an idea of the trend followed by the stock price."
   ]
  },
  {
   "cell_type": "code",
   "execution_count": null,
   "metadata": {},
   "outputs": [],
   "source": []
  },
  {
   "cell_type": "code",
   "execution_count": null,
   "metadata": {},
   "outputs": [],
   "source": []
  }
 ],
 "metadata": {
  "kernelspec": {
   "display_name": "Python 3",
   "language": "python",
   "name": "python3"
  },
  "language_info": {
   "codemirror_mode": {
    "name": "ipython",
    "version": 3
   },
   "file_extension": ".py",
   "mimetype": "text/x-python",
   "name": "python",
   "nbconvert_exporter": "python",
   "pygments_lexer": "ipython3",
   "version": "3.8.5"
  }
 },
 "nbformat": 4,
 "nbformat_minor": 4
}
