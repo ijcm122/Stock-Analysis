{
 "cells": [
  {
   "cell_type": "code",
   "execution_count": 1,
   "metadata": {},
   "outputs": [],
   "source": [
    "#dependencies\n",
    "import pandas as pd\n",
    "import numpy as np\n",
    "import matplotlib.pyplot as plt\n",
    "import datetime\n",
    "import os\n",
    "import tensorflow as tf\n",
    "from tensorflow import keras\n",
    "from tensorflow.keras.utils import to_categorical\n",
    "from tensorflow.keras.models import Sequential\n",
    "from tensorflow.keras.layers import Dense\n",
    "from sklearn.model_selection import train_test_split\n",
    "from sklearn.preprocessing import LabelEncoder, MinMaxScaler\n",
    "from sklearn import model_selection\n",
    "from sklearn.svm import SVC\n",
    "from sklearn.linear_model import LinearRegression"
   ]
  },
  {
   "cell_type": "code",
   "execution_count": 2,
   "metadata": {},
   "outputs": [
    {
     "data": {
      "text/html": [
       "<div>\n",
       "<style scoped>\n",
       "    .dataframe tbody tr th:only-of-type {\n",
       "        vertical-align: middle;\n",
       "    }\n",
       "\n",
       "    .dataframe tbody tr th {\n",
       "        vertical-align: top;\n",
       "    }\n",
       "\n",
       "    .dataframe thead th {\n",
       "        text-align: right;\n",
       "    }\n",
       "</style>\n",
       "<table border=\"1\" class=\"dataframe\">\n",
       "  <thead>\n",
       "    <tr style=\"text-align: right;\">\n",
       "      <th></th>\n",
       "      <th>Date</th>\n",
       "      <th>Close/Last</th>\n",
       "      <th>Volume</th>\n",
       "      <th>Open</th>\n",
       "      <th>High</th>\n",
       "      <th>Low</th>\n",
       "    </tr>\n",
       "  </thead>\n",
       "  <tbody>\n",
       "    <tr>\n",
       "      <th>0</th>\n",
       "      <td>07/30/2021</td>\n",
       "      <td>$104.5</td>\n",
       "      <td>75136</td>\n",
       "      <td>$103.24</td>\n",
       "      <td>$104.69</td>\n",
       "      <td>$102.41</td>\n",
       "    </tr>\n",
       "    <tr>\n",
       "      <th>1</th>\n",
       "      <td>07/29/2021</td>\n",
       "      <td>$103.68</td>\n",
       "      <td>92759</td>\n",
       "      <td>$102.01</td>\n",
       "      <td>$104.2399</td>\n",
       "      <td>$100.655</td>\n",
       "    </tr>\n",
       "    <tr>\n",
       "      <th>2</th>\n",
       "      <td>07/28/2021</td>\n",
       "      <td>$101.56</td>\n",
       "      <td>43367</td>\n",
       "      <td>$101.21</td>\n",
       "      <td>$102.43</td>\n",
       "      <td>$99.85</td>\n",
       "    </tr>\n",
       "    <tr>\n",
       "      <th>3</th>\n",
       "      <td>07/27/2021</td>\n",
       "      <td>$100.55</td>\n",
       "      <td>59346</td>\n",
       "      <td>$102.23</td>\n",
       "      <td>$102.25</td>\n",
       "      <td>$99.39</td>\n",
       "    </tr>\n",
       "    <tr>\n",
       "      <th>4</th>\n",
       "      <td>07/26/2021</td>\n",
       "      <td>$102.7</td>\n",
       "      <td>47389</td>\n",
       "      <td>$102.1</td>\n",
       "      <td>$103.17</td>\n",
       "      <td>$102.1</td>\n",
       "    </tr>\n",
       "  </tbody>\n",
       "</table>\n",
       "</div>"
      ],
      "text/plain": [
       "         Date Close/Last  Volume     Open       High       Low\n",
       "0  07/30/2021     $104.5   75136  $103.24    $104.69   $102.41\n",
       "1  07/29/2021    $103.68   92759  $102.01  $104.2399  $100.655\n",
       "2  07/28/2021    $101.56   43367  $101.21    $102.43    $99.85\n",
       "3  07/27/2021    $100.55   59346  $102.23    $102.25    $99.39\n",
       "4  07/26/2021     $102.7   47389   $102.1    $103.17    $102.1"
      ]
     },
     "execution_count": 2,
     "metadata": {},
     "output_type": "execute_result"
    }
   ],
   "source": [
    "#load assesment file\n",
    "TTEC = \"Resources/HistoricalData_TTEC.csv\"\n",
    "TTEC_df = pd.read_csv(TTEC)\n",
    "TTEC_df.head()"
   ]
  },
  {
   "cell_type": "markdown",
   "metadata": {},
   "source": [
    "CLEAN, RESHAPE AND CONVERT DATATYPE"
   ]
  },
  {
   "cell_type": "code",
   "execution_count": 3,
   "metadata": {},
   "outputs": [
    {
     "name": "stderr",
     "output_type": "stream",
     "text": [
      "<ipython-input-3-b60ab4c99ead>:2: FutureWarning: The default value of regex will change from True to False in a future version. In addition, single character regular expressions will*not* be treated as literal strings when regex=True.\n",
      "  TTEC_df['Close/Last'] = TTEC_df['Close/Last'].str.replace('$','')\n",
      "<ipython-input-3-b60ab4c99ead>:3: FutureWarning: The default value of regex will change from True to False in a future version. In addition, single character regular expressions will*not* be treated as literal strings when regex=True.\n",
      "  TTEC_df['Open'] = TTEC_df['Open'].str.replace('$','')\n",
      "<ipython-input-3-b60ab4c99ead>:4: FutureWarning: The default value of regex will change from True to False in a future version. In addition, single character regular expressions will*not* be treated as literal strings when regex=True.\n",
      "  TTEC_df['High'] = TTEC_df['High'].str.replace('$','')\n",
      "<ipython-input-3-b60ab4c99ead>:5: FutureWarning: The default value of regex will change from True to False in a future version. In addition, single character regular expressions will*not* be treated as literal strings when regex=True.\n",
      "  TTEC_df['Low'] = TTEC_df['Low'].str.replace('$','')\n"
     ]
    }
   ],
   "source": [
    "TTEC_df['Date']= pd.to_datetime(TTEC_df['Date'])\n",
    "TTEC_df['Close/Last'] = TTEC_df['Close/Last'].str.replace('$','')\n",
    "TTEC_df['Open'] = TTEC_df['Open'].str.replace('$','')\n",
    "TTEC_df['High'] = TTEC_df['High'].str.replace('$','')\n",
    "TTEC_df['Low'] = TTEC_df['Low'].str.replace('$','')\n",
    "TTEC_df = TTEC_df.apply( pd.to_numeric)"
   ]
  },
  {
   "cell_type": "markdown",
   "metadata": {},
   "source": [
    "FORMAT DATE COLUMN"
   ]
  },
  {
   "cell_type": "code",
   "execution_count": 4,
   "metadata": {},
   "outputs": [
    {
     "data": {
      "text/html": [
       "<div>\n",
       "<style scoped>\n",
       "    .dataframe tbody tr th:only-of-type {\n",
       "        vertical-align: middle;\n",
       "    }\n",
       "\n",
       "    .dataframe tbody tr th {\n",
       "        vertical-align: top;\n",
       "    }\n",
       "\n",
       "    .dataframe thead th {\n",
       "        text-align: right;\n",
       "    }\n",
       "</style>\n",
       "<table border=\"1\" class=\"dataframe\">\n",
       "  <thead>\n",
       "    <tr style=\"text-align: right;\">\n",
       "      <th></th>\n",
       "      <th>Date</th>\n",
       "      <th>Close/Last</th>\n",
       "      <th>Volume</th>\n",
       "      <th>Open</th>\n",
       "      <th>High</th>\n",
       "      <th>Low</th>\n",
       "    </tr>\n",
       "  </thead>\n",
       "  <tbody>\n",
       "    <tr>\n",
       "      <th>0</th>\n",
       "      <td>2021-07-30</td>\n",
       "      <td>104.50</td>\n",
       "      <td>75136</td>\n",
       "      <td>103.24</td>\n",
       "      <td>104.6900</td>\n",
       "      <td>102.410</td>\n",
       "    </tr>\n",
       "    <tr>\n",
       "      <th>1</th>\n",
       "      <td>2021-07-29</td>\n",
       "      <td>103.68</td>\n",
       "      <td>92759</td>\n",
       "      <td>102.01</td>\n",
       "      <td>104.2399</td>\n",
       "      <td>100.655</td>\n",
       "    </tr>\n",
       "    <tr>\n",
       "      <th>2</th>\n",
       "      <td>2021-07-28</td>\n",
       "      <td>101.56</td>\n",
       "      <td>43367</td>\n",
       "      <td>101.21</td>\n",
       "      <td>102.4300</td>\n",
       "      <td>99.850</td>\n",
       "    </tr>\n",
       "    <tr>\n",
       "      <th>3</th>\n",
       "      <td>2021-07-27</td>\n",
       "      <td>100.55</td>\n",
       "      <td>59346</td>\n",
       "      <td>102.23</td>\n",
       "      <td>102.2500</td>\n",
       "      <td>99.390</td>\n",
       "    </tr>\n",
       "    <tr>\n",
       "      <th>4</th>\n",
       "      <td>2021-07-26</td>\n",
       "      <td>102.70</td>\n",
       "      <td>47389</td>\n",
       "      <td>102.10</td>\n",
       "      <td>103.1700</td>\n",
       "      <td>102.100</td>\n",
       "    </tr>\n",
       "  </tbody>\n",
       "</table>\n",
       "</div>"
      ],
      "text/plain": [
       "        Date  Close/Last  Volume    Open      High      Low\n",
       "0 2021-07-30      104.50   75136  103.24  104.6900  102.410\n",
       "1 2021-07-29      103.68   92759  102.01  104.2399  100.655\n",
       "2 2021-07-28      101.56   43367  101.21  102.4300   99.850\n",
       "3 2021-07-27      100.55   59346  102.23  102.2500   99.390\n",
       "4 2021-07-26      102.70   47389  102.10  103.1700  102.100"
      ]
     },
     "execution_count": 4,
     "metadata": {},
     "output_type": "execute_result"
    }
   ],
   "source": [
    "TTEC_df['Date']= pd.to_datetime(TTEC_df['Date'])\n",
    "TTEC_df.head()"
   ]
  },
  {
   "cell_type": "code",
   "execution_count": 5,
   "metadata": {},
   "outputs": [
    {
     "data": {
      "text/html": [
       "<div>\n",
       "<style scoped>\n",
       "    .dataframe tbody tr th:only-of-type {\n",
       "        vertical-align: middle;\n",
       "    }\n",
       "\n",
       "    .dataframe tbody tr th {\n",
       "        vertical-align: top;\n",
       "    }\n",
       "\n",
       "    .dataframe thead th {\n",
       "        text-align: right;\n",
       "    }\n",
       "</style>\n",
       "<table border=\"1\" class=\"dataframe\">\n",
       "  <thead>\n",
       "    <tr style=\"text-align: right;\">\n",
       "      <th></th>\n",
       "      <th>Date</th>\n",
       "      <th>Close/Last</th>\n",
       "      <th>Volume</th>\n",
       "      <th>Open</th>\n",
       "      <th>High</th>\n",
       "      <th>Low</th>\n",
       "      <th>Open_Close</th>\n",
       "      <th>High_Low</th>\n",
       "      <th>Increase_Decrease</th>\n",
       "      <th>Buy_Sell_on_Open</th>\n",
       "      <th>Buy_Sell</th>\n",
       "      <th>Returns</th>\n",
       "    </tr>\n",
       "  </thead>\n",
       "  <tbody>\n",
       "    <tr>\n",
       "      <th>1</th>\n",
       "      <td>2021-07-29</td>\n",
       "      <td>103.68</td>\n",
       "      <td>92759</td>\n",
       "      <td>102.01</td>\n",
       "      <td>104.2399</td>\n",
       "      <td>100.655</td>\n",
       "      <td>-0.016371</td>\n",
       "      <td>0.035616</td>\n",
       "      <td>0</td>\n",
       "      <td>0</td>\n",
       "      <td>0</td>\n",
       "      <td>-0.007847</td>\n",
       "    </tr>\n",
       "    <tr>\n",
       "      <th>2</th>\n",
       "      <td>2021-07-28</td>\n",
       "      <td>101.56</td>\n",
       "      <td>43367</td>\n",
       "      <td>101.21</td>\n",
       "      <td>102.4300</td>\n",
       "      <td>99.850</td>\n",
       "      <td>-0.003458</td>\n",
       "      <td>0.025839</td>\n",
       "      <td>1</td>\n",
       "      <td>1</td>\n",
       "      <td>0</td>\n",
       "      <td>-0.020448</td>\n",
       "    </tr>\n",
       "    <tr>\n",
       "      <th>3</th>\n",
       "      <td>2021-07-27</td>\n",
       "      <td>100.55</td>\n",
       "      <td>59346</td>\n",
       "      <td>102.23</td>\n",
       "      <td>102.2500</td>\n",
       "      <td>99.390</td>\n",
       "      <td>0.016434</td>\n",
       "      <td>0.028776</td>\n",
       "      <td>0</td>\n",
       "      <td>0</td>\n",
       "      <td>1</td>\n",
       "      <td>-0.009945</td>\n",
       "    </tr>\n",
       "    <tr>\n",
       "      <th>4</th>\n",
       "      <td>2021-07-26</td>\n",
       "      <td>102.70</td>\n",
       "      <td>47389</td>\n",
       "      <td>102.10</td>\n",
       "      <td>103.1700</td>\n",
       "      <td>102.100</td>\n",
       "      <td>-0.005877</td>\n",
       "      <td>0.010480</td>\n",
       "      <td>1</td>\n",
       "      <td>0</td>\n",
       "      <td>0</td>\n",
       "      <td>0.021382</td>\n",
       "    </tr>\n",
       "    <tr>\n",
       "      <th>5</th>\n",
       "      <td>2021-07-23</td>\n",
       "      <td>101.65</td>\n",
       "      <td>66841</td>\n",
       "      <td>101.74</td>\n",
       "      <td>101.9700</td>\n",
       "      <td>100.550</td>\n",
       "      <td>0.000885</td>\n",
       "      <td>0.014122</td>\n",
       "      <td>1</td>\n",
       "      <td>1</td>\n",
       "      <td>0</td>\n",
       "      <td>-0.010224</td>\n",
       "    </tr>\n",
       "  </tbody>\n",
       "</table>\n",
       "</div>"
      ],
      "text/plain": [
       "        Date  Close/Last  Volume    Open      High      Low  Open_Close  \\\n",
       "1 2021-07-29      103.68   92759  102.01  104.2399  100.655   -0.016371   \n",
       "2 2021-07-28      101.56   43367  101.21  102.4300   99.850   -0.003458   \n",
       "3 2021-07-27      100.55   59346  102.23  102.2500   99.390    0.016434   \n",
       "4 2021-07-26      102.70   47389  102.10  103.1700  102.100   -0.005877   \n",
       "5 2021-07-23      101.65   66841  101.74  101.9700  100.550    0.000885   \n",
       "\n",
       "   High_Low  Increase_Decrease  Buy_Sell_on_Open  Buy_Sell   Returns  \n",
       "1  0.035616                  0                 0         0 -0.007847  \n",
       "2  0.025839                  1                 1         0 -0.020448  \n",
       "3  0.028776                  0                 0         1 -0.009945  \n",
       "4  0.010480                  1                 0         0  0.021382  \n",
       "5  0.014122                  1                 1         0 -0.010224  "
      ]
     },
     "execution_count": 5,
     "metadata": {},
     "output_type": "execute_result"
    }
   ],
   "source": [
    "TTEC_df['Open_Close'] = (TTEC_df['Open'] - TTEC_df['Close/Last'])/TTEC_df['Open']\n",
    "TTEC_df['High_Low'] = (TTEC_df['High'] - TTEC_df['Low'])/TTEC_df['Low']\n",
    "TTEC_df['Increase_Decrease'] = np.where(TTEC_df['Volume'].shift(-1) > TTEC_df['Volume'],1,0)\n",
    "TTEC_df['Buy_Sell_on_Open'] = np.where(TTEC_df['Open'].shift(-1) > TTEC_df['Open'],1,0)\n",
    "TTEC_df['Buy_Sell'] = np.where(TTEC_df['Close/Last'].shift(-1) > TTEC_df['Close/Last'],1,0)\n",
    "TTEC_df['Returns'] = TTEC_df['Close/Last'].pct_change()\n",
    "TTEC_df = TTEC_df.dropna()\n",
    "TTEC_df.head()"
   ]
  },
  {
   "cell_type": "markdown",
   "metadata": {},
   "source": [
    "SPLIT DATAFRAME"
   ]
  },
  {
   "cell_type": "code",
   "execution_count": 6,
   "metadata": {},
   "outputs": [
    {
     "data": {
      "text/html": [
       "<div>\n",
       "<style scoped>\n",
       "    .dataframe tbody tr th:only-of-type {\n",
       "        vertical-align: middle;\n",
       "    }\n",
       "\n",
       "    .dataframe tbody tr th {\n",
       "        vertical-align: top;\n",
       "    }\n",
       "\n",
       "    .dataframe thead th {\n",
       "        text-align: right;\n",
       "    }\n",
       "</style>\n",
       "<table border=\"1\" class=\"dataframe\">\n",
       "  <thead>\n",
       "    <tr style=\"text-align: right;\">\n",
       "      <th></th>\n",
       "      <th>Date</th>\n",
       "      <th>Close/Last</th>\n",
       "      <th>Volume</th>\n",
       "      <th>Open</th>\n",
       "      <th>High</th>\n",
       "      <th>Low</th>\n",
       "      <th>Open_Close</th>\n",
       "      <th>High_Low</th>\n",
       "      <th>Increase_Decrease</th>\n",
       "      <th>Buy_Sell_on_Open</th>\n",
       "      <th>Buy_Sell</th>\n",
       "      <th>Returns</th>\n",
       "    </tr>\n",
       "  </thead>\n",
       "  <tbody>\n",
       "    <tr>\n",
       "      <th>299</th>\n",
       "      <td>2020-05-22</td>\n",
       "      <td>39.57</td>\n",
       "      <td>77378</td>\n",
       "      <td>38.88</td>\n",
       "      <td>39.580</td>\n",
       "      <td>38.590</td>\n",
       "      <td>-0.017747</td>\n",
       "      <td>0.025654</td>\n",
       "      <td>1</td>\n",
       "      <td>1</td>\n",
       "      <td>0</td>\n",
       "      <td>-0.017383</td>\n",
       "    </tr>\n",
       "    <tr>\n",
       "      <th>300</th>\n",
       "      <td>2020-05-21</td>\n",
       "      <td>38.55</td>\n",
       "      <td>85690</td>\n",
       "      <td>40.00</td>\n",
       "      <td>40.000</td>\n",
       "      <td>38.430</td>\n",
       "      <td>0.036250</td>\n",
       "      <td>0.040853</td>\n",
       "      <td>1</td>\n",
       "      <td>0</td>\n",
       "      <td>1</td>\n",
       "      <td>-0.025777</td>\n",
       "    </tr>\n",
       "    <tr>\n",
       "      <th>301</th>\n",
       "      <td>2020-05-20</td>\n",
       "      <td>39.46</td>\n",
       "      <td>308242</td>\n",
       "      <td>38.44</td>\n",
       "      <td>39.565</td>\n",
       "      <td>38.235</td>\n",
       "      <td>-0.026535</td>\n",
       "      <td>0.034785</td>\n",
       "      <td>0</td>\n",
       "      <td>1</td>\n",
       "      <td>0</td>\n",
       "      <td>0.023606</td>\n",
       "    </tr>\n",
       "    <tr>\n",
       "      <th>302</th>\n",
       "      <td>2020-05-19</td>\n",
       "      <td>37.69</td>\n",
       "      <td>194724</td>\n",
       "      <td>39.08</td>\n",
       "      <td>39.490</td>\n",
       "      <td>37.650</td>\n",
       "      <td>0.035568</td>\n",
       "      <td>0.048871</td>\n",
       "      <td>0</td>\n",
       "      <td>0</td>\n",
       "      <td>1</td>\n",
       "      <td>-0.044856</td>\n",
       "    </tr>\n",
       "    <tr>\n",
       "      <th>303</th>\n",
       "      <td>2020-05-18</td>\n",
       "      <td>39.19</td>\n",
       "      <td>90589</td>\n",
       "      <td>38.38</td>\n",
       "      <td>39.460</td>\n",
       "      <td>38.380</td>\n",
       "      <td>-0.021105</td>\n",
       "      <td>0.028140</td>\n",
       "      <td>0</td>\n",
       "      <td>0</td>\n",
       "      <td>0</td>\n",
       "      <td>0.039798</td>\n",
       "    </tr>\n",
       "  </tbody>\n",
       "</table>\n",
       "</div>"
      ],
      "text/plain": [
       "          Date  Close/Last  Volume   Open    High     Low  Open_Close  \\\n",
       "299 2020-05-22       39.57   77378  38.88  39.580  38.590   -0.017747   \n",
       "300 2020-05-21       38.55   85690  40.00  40.000  38.430    0.036250   \n",
       "301 2020-05-20       39.46  308242  38.44  39.565  38.235   -0.026535   \n",
       "302 2020-05-19       37.69  194724  39.08  39.490  37.650    0.035568   \n",
       "303 2020-05-18       39.19   90589  38.38  39.460  38.380   -0.021105   \n",
       "\n",
       "     High_Low  Increase_Decrease  Buy_Sell_on_Open  Buy_Sell   Returns  \n",
       "299  0.025654                  1                 1         0 -0.017383  \n",
       "300  0.040853                  1                 0         1 -0.025777  \n",
       "301  0.034785                  0                 1         0  0.023606  \n",
       "302  0.048871                  0                 0         1 -0.044856  \n",
       "303  0.028140                  0                 0         0  0.039798  "
      ]
     },
     "execution_count": 6,
     "metadata": {},
     "output_type": "execute_result"
    }
   ],
   "source": [
    "#setup datetime for first 4 years\n",
    "start_date = \"2016-05-24\"\n",
    "end_date = \"2020-05-24\"\n",
    "\n",
    "after_start_date = TTEC_df[\"Date\"] >= start_date\n",
    "before_end_date = TTEC_df[\"Date\"] <= end_date\n",
    "between_two_dates = after_start_date & before_end_date\n",
    "TTEC_df_4 = TTEC_df.loc[between_two_dates]\n",
    "TTEC_df_4.head()"
   ]
  },
  {
   "cell_type": "markdown",
   "metadata": {},
   "source": [
    "SPLIT DATAFRAME"
   ]
  },
  {
   "cell_type": "code",
   "execution_count": 7,
   "metadata": {},
   "outputs": [
    {
     "data": {
      "text/html": [
       "<div>\n",
       "<style scoped>\n",
       "    .dataframe tbody tr th:only-of-type {\n",
       "        vertical-align: middle;\n",
       "    }\n",
       "\n",
       "    .dataframe tbody tr th {\n",
       "        vertical-align: top;\n",
       "    }\n",
       "\n",
       "    .dataframe thead th {\n",
       "        text-align: right;\n",
       "    }\n",
       "</style>\n",
       "<table border=\"1\" class=\"dataframe\">\n",
       "  <thead>\n",
       "    <tr style=\"text-align: right;\">\n",
       "      <th></th>\n",
       "      <th>Date</th>\n",
       "      <th>Close/Last</th>\n",
       "      <th>Volume</th>\n",
       "      <th>Open</th>\n",
       "      <th>High</th>\n",
       "      <th>Low</th>\n",
       "      <th>Open_Close</th>\n",
       "      <th>High_Low</th>\n",
       "      <th>Increase_Decrease</th>\n",
       "      <th>Buy_Sell_on_Open</th>\n",
       "      <th>Buy_Sell</th>\n",
       "      <th>Returns</th>\n",
       "    </tr>\n",
       "  </thead>\n",
       "  <tbody>\n",
       "    <tr>\n",
       "      <th>47</th>\n",
       "      <td>2021-05-24</td>\n",
       "      <td>102.51</td>\n",
       "      <td>76656</td>\n",
       "      <td>102.34</td>\n",
       "      <td>102.73</td>\n",
       "      <td>101.0901</td>\n",
       "      <td>-0.001661</td>\n",
       "      <td>0.016222</td>\n",
       "      <td>1</td>\n",
       "      <td>1</td>\n",
       "      <td>0</td>\n",
       "      <td>0.009851</td>\n",
       "    </tr>\n",
       "    <tr>\n",
       "      <th>48</th>\n",
       "      <td>2021-05-21</td>\n",
       "      <td>101.20</td>\n",
       "      <td>84312</td>\n",
       "      <td>103.73</td>\n",
       "      <td>105.27</td>\n",
       "      <td>101.2000</td>\n",
       "      <td>0.024390</td>\n",
       "      <td>0.040217</td>\n",
       "      <td>0</td>\n",
       "      <td>0</td>\n",
       "      <td>1</td>\n",
       "      <td>-0.012779</td>\n",
       "    </tr>\n",
       "    <tr>\n",
       "      <th>49</th>\n",
       "      <td>2021-05-20</td>\n",
       "      <td>102.42</td>\n",
       "      <td>74156</td>\n",
       "      <td>100.18</td>\n",
       "      <td>102.42</td>\n",
       "      <td>99.7300</td>\n",
       "      <td>-0.022360</td>\n",
       "      <td>0.026973</td>\n",
       "      <td>1</td>\n",
       "      <td>0</td>\n",
       "      <td>0</td>\n",
       "      <td>0.012055</td>\n",
       "    </tr>\n",
       "    <tr>\n",
       "      <th>50</th>\n",
       "      <td>2021-05-19</td>\n",
       "      <td>99.69</td>\n",
       "      <td>97330</td>\n",
       "      <td>98.31</td>\n",
       "      <td>99.90</td>\n",
       "      <td>95.1500</td>\n",
       "      <td>-0.014037</td>\n",
       "      <td>0.049921</td>\n",
       "      <td>1</td>\n",
       "      <td>1</td>\n",
       "      <td>1</td>\n",
       "      <td>-0.026655</td>\n",
       "    </tr>\n",
       "    <tr>\n",
       "      <th>51</th>\n",
       "      <td>2021-05-18</td>\n",
       "      <td>100.31</td>\n",
       "      <td>112831</td>\n",
       "      <td>103.15</td>\n",
       "      <td>103.15</td>\n",
       "      <td>100.1000</td>\n",
       "      <td>0.027533</td>\n",
       "      <td>0.030470</td>\n",
       "      <td>0</td>\n",
       "      <td>1</td>\n",
       "      <td>1</td>\n",
       "      <td>0.006219</td>\n",
       "    </tr>\n",
       "  </tbody>\n",
       "</table>\n",
       "</div>"
      ],
      "text/plain": [
       "         Date  Close/Last  Volume    Open    High       Low  Open_Close  \\\n",
       "47 2021-05-24      102.51   76656  102.34  102.73  101.0901   -0.001661   \n",
       "48 2021-05-21      101.20   84312  103.73  105.27  101.2000    0.024390   \n",
       "49 2021-05-20      102.42   74156  100.18  102.42   99.7300   -0.022360   \n",
       "50 2021-05-19       99.69   97330   98.31   99.90   95.1500   -0.014037   \n",
       "51 2021-05-18      100.31  112831  103.15  103.15  100.1000    0.027533   \n",
       "\n",
       "    High_Low  Increase_Decrease  Buy_Sell_on_Open  Buy_Sell   Returns  \n",
       "47  0.016222                  1                 1         0  0.009851  \n",
       "48  0.040217                  0                 0         1 -0.012779  \n",
       "49  0.026973                  1                 0         0  0.012055  \n",
       "50  0.049921                  1                 1         1 -0.026655  \n",
       "51  0.030470                  0                 1         1  0.006219  "
      ]
     },
     "execution_count": 7,
     "metadata": {},
     "output_type": "execute_result"
    }
   ],
   "source": [
    "#setup datetime for last year\n",
    "start_date = \"2020-05-25\"\n",
    "end_date = \"2021-05-24\"\n",
    "\n",
    "after_start_date = TTEC_df[\"Date\"] >= start_date\n",
    "before_end_date = TTEC_df[\"Date\"] <= end_date\n",
    "between_two_dates = after_start_date & before_end_date\n",
    "TTEC_df_ls = TTEC_df.loc[between_two_dates]\n",
    "TTEC_df_ls.head()"
   ]
  },
  {
   "cell_type": "markdown",
   "metadata": {},
   "source": [
    "PLOT FIRST DF (4YEARS)"
   ]
  },
  {
   "cell_type": "code",
   "execution_count": 8,
   "metadata": {},
   "outputs": [
    {
     "data": {
      "image/png": "[encoded data removed]",
      "text/plain": [
       "<Figure size 864x576 with 1 Axes>"
      ]
     },
     "metadata": {
      "needs_background": "light"
     },
     "output_type": "display_data"
    }
   ],
   "source": [
    "plt.figure(figsize=(12,8))\n",
    "plt.plot(TTEC_df_4['Close/Last'])\n",
    "plt.title(\"Teletech Line Chart\")\n",
    "plt.xlabel(\"Date\")\n",
    "plt.ylabel(\"Close\")\n",
    "plt.show()"
   ]
  },
  {
   "cell_type": "markdown",
   "metadata": {},
   "source": [
    "PLOT SECOND DF (LAST YEAR)"
   ]
  },
  {
   "cell_type": "code",
   "execution_count": null,
   "metadata": {},
   "outputs": [],
   "source": [
    "plt.figure(figsize=(12,8))\n",
    "plt.plot(TTEC_df_ls['Close/Last'])\n",
    "plt.title(\"Teletech Line Chart\")\n",
    "plt.xlabel(\"Date\")\n",
    "plt.ylabel(\"Close\")\n",
    "plt.show()"
   ]
  },
  {
   "cell_type": "markdown",
   "metadata": {},
   "source": [
    "SHAPPING, FITTING, TRAINING, TESTING ML ON 1ST DF"
   ]
  },
  {
   "cell_type": "code",
   "execution_count": null,
   "metadata": {},
   "outputs": [],
   "source": [
    "TTEC_df_4.shape"
   ]
  },
  {
   "cell_type": "code",
   "execution_count": null,
   "metadata": {},
   "outputs": [],
   "source": [
    "X = np.array(TTEC_df_4['Open']).reshape(1006,-1)\n",
    "Y = np.array(TTEC_df_4['Close/Last']).reshape(1006,-1)"
   ]
  },
  {
   "cell_type": "code",
   "execution_count": null,
   "metadata": {},
   "outputs": [],
   "source": [
    "from sklearn.linear_model import LinearRegression"
   ]
  },
  {
   "cell_type": "code",
   "execution_count": null,
   "metadata": {},
   "outputs": [],
   "source": [
    "lr = LinearRegression()"
   ]
  },
  {
   "cell_type": "code",
   "execution_count": null,
   "metadata": {},
   "outputs": [],
   "source": [
    "lr.fit(X, Y)"
   ]
  },
  {
   "cell_type": "code",
   "execution_count": null,
   "metadata": {},
   "outputs": [],
   "source": [
    "print('Linear Regression intercept:', lr.intercept_)\n",
    "print('coefficient count:', len(lr.coef_))"
   ]
  },
  {
   "cell_type": "code",
   "execution_count": null,
   "metadata": {},
   "outputs": [],
   "source": [
    "from sklearn.metrics import accuracy_score\n",
    "print('Accuracy:', lr.score(X, Y))"
   ]
  },
  {
   "cell_type": "code",
   "execution_count": null,
   "metadata": {},
   "outputs": [],
   "source": [
    "# Predicting the price\n",
    "lr.predict(X)"
   ]
  },
  {
   "cell_type": "code",
   "execution_count": null,
   "metadata": {},
   "outputs": [],
   "source": [
    "#daily Return\n",
    "DA_RE = TTEC_df_4['Close/Last'].pct_change(1)\n",
    "DA_RE.head()"
   ]
  },
  {
   "cell_type": "code",
   "execution_count": null,
   "metadata": {},
   "outputs": [],
   "source": [
    "plt.figure(figsize=(12,8))\n",
    "plt.scatter(TTEC_df_4['Close/Last'], lr.predict(X))\n",
    "plt.plot(X, lr.predict(X), color = 'red')\n",
    "plt.xlabel('Closing Price')\n",
    "plt.ylabel('Predicted Closing Price')\n",
    "plt.savefig('images/CSCO_4y.jpg', dpi=40)\n",
    "plt.grid()\n",
    "plt.title('4 Years CLosing Price vs Predicted Closing Price')"
   ]
  },
  {
   "cell_type": "markdown",
   "metadata": {},
   "source": [
    "TRAINING, TESTING ML ON 2ND DF"
   ]
  },
  {
   "cell_type": "code",
   "execution_count": null,
   "metadata": {},
   "outputs": [],
   "source": [
    "TTEC_df_ls.shape"
   ]
  },
  {
   "cell_type": "code",
   "execution_count": null,
   "metadata": {},
   "outputs": [],
   "source": [
    "X_ls = np.array(TTEC_df_ls['Open']).reshape(251,-1)\n",
    "Y_ls = np.array(TTEC_df_ls['Close/Last']).reshape(251,-1)"
   ]
  },
  {
   "cell_type": "code",
   "execution_count": null,
   "metadata": {},
   "outputs": [],
   "source": [
    "lr.fit(X_ls, Y_ls)"
   ]
  },
  {
   "cell_type": "code",
   "execution_count": null,
   "metadata": {},
   "outputs": [],
   "source": [
    "print('Linear Regression intercept:', lr.intercept_)\n",
    "print('coefficient count:', len(lr.coef_))"
   ]
  },
  {
   "cell_type": "code",
   "execution_count": null,
   "metadata": {},
   "outputs": [],
   "source": [
    "print('Accuracy:', lr.score(X_ls, Y_ls))"
   ]
  },
  {
   "cell_type": "code",
   "execution_count": null,
   "metadata": {},
   "outputs": [],
   "source": [
    "# Predicting the price\n",
    "lr.predict(X_ls)"
   ]
  },
  {
   "cell_type": "code",
   "execution_count": null,
   "metadata": {},
   "outputs": [],
   "source": [
    "plt.figure(figsize=(12,8))\n",
    "plt.scatter(TTEC_df_ls['Close/Last'], lr.predict(X_ls))\n",
    "plt.plot(X_ls, lr.predict(X_ls), color = 'red')\n",
    "plt.xlabel('Closing Price')\n",
    "plt.ylabel('Predicted Closing Price')\n",
    "plt.savefig('images/TTEC_ls.jpg', dpi=40)\n",
    "plt.grid()\n",
    "plt.title('1 Year CLosing Price vs Predicted Closing Price')"
   ]
  },
  {
   "cell_type": "code",
   "execution_count": null,
   "metadata": {},
   "outputs": [],
   "source": [
    "TTEC_df.shape"
   ]
  },
  {
   "cell_type": "code",
   "execution_count": null,
   "metadata": {},
   "outputs": [],
   "source": [
    "model = tf.keras.Sequential([keras.layers.Dense(units=1, input_shape=[1])])\n",
    "model.compile(optimizer='sgd', loss='mean_squared_error')"
   ]
  },
  {
   "cell_type": "code",
   "execution_count": null,
   "metadata": {},
   "outputs": [],
   "source": [
    "Xc = np.array(TTEC_df['Returns'], dtype = float) # Feature\n",
    "Yc = np.array(TTEC_df['Close/Last'], dtype = float) # Target"
   ]
  },
  {
   "cell_type": "code",
   "execution_count": null,
   "metadata": {},
   "outputs": [],
   "source": [
    "model.fit(Xc, Yc, epochs=100)"
   ]
  },
  {
   "cell_type": "code",
   "execution_count": null,
   "metadata": {},
   "outputs": [],
   "source": [
    "scaler = MinMaxScaler()\n",
    "normalized_X = scaler.fit_transform(np.array(TTEC_df['Returns']).reshape(1257,-1))\n",
    "X = np.array(normalized_X, dtype = float)\n",
    "normalized_Y = scaler.fit_transform(np.array(TTEC_df['Close/Last']).reshape(1257,-1))\n",
    "Y = np.array(normalized_Y, dtype = float)"
   ]
  },
  {
   "cell_type": "code",
   "execution_count": 3,
   "metadata": {},
   "outputs": [],
   "source": [
    "def build_model():\n",
    "  model = keras.Sequential([\n",
    "    layers.Dense(64, activation=tf.nn.relu, input_shape=[len(train_dataset.keys())]),\n",
    "    layers.Dense(64, activation=tf.nn.relu),\n",
    "    layers.Dense(1)\n",
    "  ])\n",
    "\n",
    "  optimizer = tf.keras.optimizers.RMSprop(0.001)\n",
    "\n",
    "  model.compile(loss='mean_squared_error',\n",
    "                optimizer=optimizer,\n",
    "                metrics=['mean_absolute_error', 'mean_squared_error'])\n",
    "  return model"
   ]
  },
  {
   "cell_type": "code",
   "execution_count": 4,
   "metadata": {},
   "outputs": [
    {
     "ename": "NameError",
     "evalue": "name 'model' is not defined",
     "output_type": "error",
     "traceback": [
      "\u001b[0;31m---------------------------------------------------------------------------\u001b[0m",
      "\u001b[0;31mNameError\u001b[0m                                 Traceback (most recent call last)",
      "\u001b[0;32m<ipython-input-4-7513b3f1498a>\u001b[0m in \u001b[0;36m<module>\u001b[0;34m\u001b[0m\n\u001b[0;32m----> 1\u001b[0;31m \u001b[0mprint\u001b[0m\u001b[0;34m(\u001b[0m\u001b[0;34m(\u001b[0m\u001b[0mmodel\u001b[0m\u001b[0;34m.\u001b[0m\u001b[0mpredict\u001b[0m\u001b[0;34m(\u001b[0m\u001b[0;34m[\u001b[0m\u001b[0;36m0\u001b[0m\u001b[0;34m]\u001b[0m\u001b[0;34m)\u001b[0m\u001b[0;34m)\u001b[0m\u001b[0;34m)\u001b[0m\u001b[0;34m\u001b[0m\u001b[0;34m\u001b[0m\u001b[0m\n\u001b[0m",
      "\u001b[0;31mNameError\u001b[0m: name 'model' is not defined"
     ]
    }
   ],
   "source": [
    "print((model.predict([0])))"
   ]
  },
  {
   "cell_type": "code",
   "execution_count": null,
   "metadata": {},
   "outputs": [],
   "source": []
  },
  {
   "cell_type": "code",
   "execution_count": null,
   "metadata": {},
   "outputs": [],
   "source": []
  },
  {
   "cell_type": "code",
   "execution_count": null,
   "metadata": {},
   "outputs": [],
   "source": []
  }
 ],
 "metadata": {
  "kernelspec": {
   "display_name": "Python 3",
   "language": "python",
   "name": "python3"
  },
  "language_info": {
   "codemirror_mode": {
    "name": "ipython",
    "version": 3
   },
   "file_extension": ".py",
   "mimetype": "text/x-python",
   "name": "python",
   "nbconvert_exporter": "python",
   "pygments_lexer": "ipython3",
   "version": "3.8.5"
  }
 },
 "nbformat": 4,
 "nbformat_minor": 4
}
